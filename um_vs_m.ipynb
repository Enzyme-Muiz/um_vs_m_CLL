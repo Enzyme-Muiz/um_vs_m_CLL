{
 "cells": [
  {
   "cell_type": "code",
   "execution_count": 2,
   "metadata": {},
   "outputs": [],
   "source": [
    "library(flowCore)\n",
    "library(stringr)\n",
    "library(CytoNorm)\n",
    "library(stringr)\n",
    "library(Rtsne)\n",
    "library(corrplot)\n",
    "library(cluster)"
   ]
  },
  {
   "cell_type": "code",
   "execution_count": 4,
   "metadata": {},
   "outputs": [],
   "source": [
    "library(Biobase)\n",
    "library(FlowSOM)\n",
    "library( \"gplots\" )\n",
    "library( \"RColorBrewer\" )"
   ]
  },
  {
   "cell_type": "code",
   "execution_count": 5,
   "metadata": {},
   "outputs": [],
   "source": [
    "rom <- list.files(path = \"C:/Users/oaona/output/'c15_beta.2_gamma10.0_delta.05_cytof_mlp'/calibrated_data_org_scale/batch_corrected\", full.names = TRUE)\n",
    "#rom\n"
   ]
  },
  {
   "cell_type": "code",
   "execution_count": 6,
   "metadata": {},
   "outputs": [],
   "source": [
    "length<- c()\n",
    "for (xyz in rom)\n",
    "    {yz<- read.csv(xyz, header=FALSE)\n",
    "    #kkk<- paste(xyz, dim(exprs(yz))[1], \"\")\n",
    "    kkk<- dim(yz)[1]\n",
    "     length<- append(length, kkk)}\n",
    "pp<- cumsum(length)\n",
    "qq<- pp\n",
    "qq<- R.utils::insert(qq, 1, 1)\n",
    "qq[1]<- 0"
   ]
  },
  {
   "cell_type": "code",
   "execution_count": 7,
   "metadata": {},
   "outputs": [
    {
     "data": {
      "text/html": [
       "<style>\n",
       ".list-inline {list-style: none; margin:0; padding: 0}\n",
       ".list-inline>li {display: inline-block}\n",
       ".list-inline>li:not(:last-child)::after {content: \"\\00b7\"; padding: 0 .5ex}\n",
       "</style>\n",
       "<ol class=list-inline><li>0</li><li>67443</li><li>112009</li><li>162165</li><li>250045</li><li>296390</li><li>341807</li><li>370685</li><li>376992</li><li>445420</li><li>566129</li><li>711365</li><li>865183</li><li>898632</li><li>926391</li><li>944819</li><li>977352</li><li>1011623</li><li>1020293</li><li>1028649</li><li>1033205</li><li>1049414</li><li>1072737</li><li>1074371</li><li>1140951</li><li>1145180</li><li>1336516</li><li>1607476</li><li>1654361</li><li>1658093</li><li>1709321</li><li>1719899</li><li>1747180</li></ol>\n"
      ],
      "text/latex": [
       "\\begin{enumerate*}\n",
       "\\item 0\n",
       "\\item 67443\n",
       "\\item 112009\n",
       "\\item 162165\n",
       "\\item 250045\n",
       "\\item 296390\n",
       "\\item 341807\n",
       "\\item 370685\n",
       "\\item 376992\n",
       "\\item 445420\n",
       "\\item 566129\n",
       "\\item 711365\n",
       "\\item 865183\n",
       "\\item 898632\n",
       "\\item 926391\n",
       "\\item 944819\n",
       "\\item 977352\n",
       "\\item 1011623\n",
       "\\item 1020293\n",
       "\\item 1028649\n",
       "\\item 1033205\n",
       "\\item 1049414\n",
       "\\item 1072737\n",
       "\\item 1074371\n",
       "\\item 1140951\n",
       "\\item 1145180\n",
       "\\item 1336516\n",
       "\\item 1607476\n",
       "\\item 1654361\n",
       "\\item 1658093\n",
       "\\item 1709321\n",
       "\\item 1719899\n",
       "\\item 1747180\n",
       "\\end{enumerate*}\n"
      ],
      "text/markdown": [
       "1. 0\n",
       "2. 67443\n",
       "3. 112009\n",
       "4. 162165\n",
       "5. 250045\n",
       "6. 296390\n",
       "7. 341807\n",
       "8. 370685\n",
       "9. 376992\n",
       "10. 445420\n",
       "11. 566129\n",
       "12. 711365\n",
       "13. 865183\n",
       "14. 898632\n",
       "15. 926391\n",
       "16. 944819\n",
       "17. 977352\n",
       "18. 1011623\n",
       "19. 1020293\n",
       "20. 1028649\n",
       "21. 1033205\n",
       "22. 1049414\n",
       "23. 1072737\n",
       "24. 1074371\n",
       "25. 1140951\n",
       "26. 1145180\n",
       "27. 1336516\n",
       "28. 1607476\n",
       "29. 1654361\n",
       "30. 1658093\n",
       "31. 1709321\n",
       "32. 1719899\n",
       "33. 1747180\n",
       "\n",
       "\n"
      ],
      "text/plain": [
       " [1]       0   67443  112009  162165  250045  296390  341807  370685  376992\n",
       "[10]  445420  566129  711365  865183  898632  926391  944819  977352 1011623\n",
       "[19] 1020293 1028649 1033205 1049414 1072737 1074371 1140951 1145180 1336516\n",
       "[28] 1607476 1654361 1658093 1709321 1719899 1747180"
      ]
     },
     "metadata": {},
     "output_type": "display_data"
    }
   ],
   "source": [
    "qq"
   ]
  },
  {
   "cell_type": "code",
   "execution_count": null,
   "metadata": {},
   "outputs": [],
   "source": []
  },
  {
   "cell_type": "code",
   "execution_count": null,
   "metadata": {},
   "outputs": [],
   "source": []
  },
  {
   "cell_type": "code",
   "execution_count": null,
   "metadata": {},
   "outputs": [],
   "source": []
  },
  {
   "cell_type": "code",
   "execution_count": 33,
   "metadata": {},
   "outputs": [],
   "source": [
    "##########\n",
    "frame_new1<- c()\n",
    "for (i in frame)\n",
    "    {\n",
    "    new= gsub(\".*_\",\"\",i)\n",
    "    frame_new1<- append(frame_new1, new)\n",
    "    \n",
    "    \n",
    "   }\n",
    "\n",
    "##############"
   ]
  },
  {
   "cell_type": "code",
   "execution_count": 8,
   "metadata": {},
   "outputs": [],
   "source": [
    "BB<- read.FCS('C:/Users/oaona/OneDrive/Desktop/3622/Batch_1_anchorstimnew.fcs')\n",
    "frame<- data.frame(exprs(BB))\n",
    "#frame<- colnames(frame)\n",
    "frame<- frame[FALSE, ]"
   ]
  },
  {
   "cell_type": "code",
   "execution_count": 9,
   "metadata": {},
   "outputs": [],
   "source": [
    "concatBBT<-c()\n",
    "for (jj in rom)\n",
    "    {BB<- read.csv(jj, header=FALSE)\n",
    "    BBT<- data.frame(BB)\n",
    "    frame<- rbind(frame, BBT)}"
   ]
  },
  {
   "cell_type": "code",
   "execution_count": 10,
   "metadata": {},
   "outputs": [
    {
     "data": {
      "text/html": [
       "<table>\n",
       "<caption>A data.frame: 6 × 24</caption>\n",
       "<thead>\n",
       "\t<tr><th></th><th scope=col>V1</th><th scope=col>V2</th><th scope=col>V3</th><th scope=col>V4</th><th scope=col>V5</th><th scope=col>V6</th><th scope=col>V7</th><th scope=col>V8</th><th scope=col>V9</th><th scope=col>V10</th><th scope=col>...</th><th scope=col>V15</th><th scope=col>V16</th><th scope=col>V17</th><th scope=col>V18</th><th scope=col>V19</th><th scope=col>V20</th><th scope=col>V21</th><th scope=col>V22</th><th scope=col>V23</th><th scope=col>V24</th></tr>\n",
       "\t<tr><th></th><th scope=col>&lt;dbl&gt;</th><th scope=col>&lt;dbl&gt;</th><th scope=col>&lt;dbl&gt;</th><th scope=col>&lt;dbl&gt;</th><th scope=col>&lt;dbl&gt;</th><th scope=col>&lt;dbl&gt;</th><th scope=col>&lt;dbl&gt;</th><th scope=col>&lt;dbl&gt;</th><th scope=col>&lt;dbl&gt;</th><th scope=col>&lt;dbl&gt;</th><th scope=col>...</th><th scope=col>&lt;dbl&gt;</th><th scope=col>&lt;dbl&gt;</th><th scope=col>&lt;dbl&gt;</th><th scope=col>&lt;dbl&gt;</th><th scope=col>&lt;dbl&gt;</th><th scope=col>&lt;dbl&gt;</th><th scope=col>&lt;dbl&gt;</th><th scope=col>&lt;dbl&gt;</th><th scope=col>&lt;dbl&gt;</th><th scope=col>&lt;dbl&gt;</th></tr>\n",
       "</thead>\n",
       "<tbody>\n",
       "\t<tr><th scope=row>1</th><td>2.720515</td><td>5.091653</td><td>0.8187731</td><td>1.417230</td><td>1.617348</td><td>0.4318391</td><td>0.1069501</td><td>1.458909</td><td>0.2156489</td><td>3.601366</td><td>...</td><td>3.111599</td><td>5.297683</td><td>3.435872</td><td>3.975220</td><td>5.343028</td><td>4.732990</td><td>4.620013</td><td>5.594588</td><td>2.642312</td><td>2.785648</td></tr>\n",
       "\t<tr><th scope=row>2</th><td>3.224918</td><td>5.042011</td><td>0.9438512</td><td>1.857299</td><td>2.620630</td><td>0.4349529</td><td>0.2350726</td><td>1.590319</td><td>0.5630247</td><td>3.880478</td><td>...</td><td>2.706725</td><td>5.559533</td><td>3.514353</td><td>2.271154</td><td>5.460328</td><td>5.396564</td><td>5.263660</td><td>6.220653</td><td>4.631720</td><td>3.566313</td></tr>\n",
       "\t<tr><th scope=row>3</th><td>3.224821</td><td>5.051031</td><td>0.6398849</td><td>1.344177</td><td>2.822803</td><td>0.4318391</td><td>0.1163682</td><td>1.007749</td><td>0.2156489</td><td>3.519681</td><td>...</td><td>3.676486</td><td>5.400606</td><td>2.727812</td><td>3.647988</td><td>5.424318</td><td>4.991720</td><td>4.282967</td><td>5.563038</td><td>2.925079</td><td>3.622848</td></tr>\n",
       "\t<tr><th scope=row>4</th><td>3.251661</td><td>4.931928</td><td>1.3606697</td><td>1.344177</td><td>1.903621</td><td>0.7378591</td><td>0.1069501</td><td>1.605631</td><td>0.2156489</td><td>3.366665</td><td>...</td><td>3.282933</td><td>5.040122</td><td>2.972587</td><td>3.281022</td><td>5.475883</td><td>4.281429</td><td>5.021779</td><td>5.685226</td><td>3.677922</td><td>3.515676</td></tr>\n",
       "\t<tr><th scope=row>5</th><td>3.138238</td><td>5.023952</td><td>1.0145826</td><td>2.187875</td><td>2.343742</td><td>0.8865858</td><td>0.1141995</td><td>1.738526</td><td>0.3642047</td><td>4.073721</td><td>...</td><td>2.545289</td><td>4.428783</td><td>3.722516</td><td>2.770751</td><td>5.439720</td><td>4.968496</td><td>5.479558</td><td>6.146024</td><td>4.270580</td><td>3.501113</td></tr>\n",
       "\t<tr><th scope=row>6</th><td>2.758031</td><td>5.107875</td><td>1.1114793</td><td>1.480878</td><td>2.535101</td><td>0.4318391</td><td>0.1069501</td><td>1.140602</td><td>0.3815935</td><td>3.550772</td><td>...</td><td>3.218415</td><td>5.465738</td><td>3.496481</td><td>4.216183</td><td>5.392500</td><td>5.701623</td><td>4.828745</td><td>5.903672</td><td>3.555259</td><td>3.536000</td></tr>\n",
       "</tbody>\n",
       "</table>\n"
      ],
      "text/latex": [
       "A data.frame: 6 × 24\n",
       "\\begin{tabular}{r|lllllllllllllllllllll}\n",
       "  & V1 & V2 & V3 & V4 & V5 & V6 & V7 & V8 & V9 & V10 & ... & V15 & V16 & V17 & V18 & V19 & V20 & V21 & V22 & V23 & V24\\\\\n",
       "  & <dbl> & <dbl> & <dbl> & <dbl> & <dbl> & <dbl> & <dbl> & <dbl> & <dbl> & <dbl> & ... & <dbl> & <dbl> & <dbl> & <dbl> & <dbl> & <dbl> & <dbl> & <dbl> & <dbl> & <dbl>\\\\\n",
       "\\hline\n",
       "\t1 & 2.720515 & 5.091653 & 0.8187731 & 1.417230 & 1.617348 & 0.4318391 & 0.1069501 & 1.458909 & 0.2156489 & 3.601366 & ... & 3.111599 & 5.297683 & 3.435872 & 3.975220 & 5.343028 & 4.732990 & 4.620013 & 5.594588 & 2.642312 & 2.785648\\\\\n",
       "\t2 & 3.224918 & 5.042011 & 0.9438512 & 1.857299 & 2.620630 & 0.4349529 & 0.2350726 & 1.590319 & 0.5630247 & 3.880478 & ... & 2.706725 & 5.559533 & 3.514353 & 2.271154 & 5.460328 & 5.396564 & 5.263660 & 6.220653 & 4.631720 & 3.566313\\\\\n",
       "\t3 & 3.224821 & 5.051031 & 0.6398849 & 1.344177 & 2.822803 & 0.4318391 & 0.1163682 & 1.007749 & 0.2156489 & 3.519681 & ... & 3.676486 & 5.400606 & 2.727812 & 3.647988 & 5.424318 & 4.991720 & 4.282967 & 5.563038 & 2.925079 & 3.622848\\\\\n",
       "\t4 & 3.251661 & 4.931928 & 1.3606697 & 1.344177 & 1.903621 & 0.7378591 & 0.1069501 & 1.605631 & 0.2156489 & 3.366665 & ... & 3.282933 & 5.040122 & 2.972587 & 3.281022 & 5.475883 & 4.281429 & 5.021779 & 5.685226 & 3.677922 & 3.515676\\\\\n",
       "\t5 & 3.138238 & 5.023952 & 1.0145826 & 2.187875 & 2.343742 & 0.8865858 & 0.1141995 & 1.738526 & 0.3642047 & 4.073721 & ... & 2.545289 & 4.428783 & 3.722516 & 2.770751 & 5.439720 & 4.968496 & 5.479558 & 6.146024 & 4.270580 & 3.501113\\\\\n",
       "\t6 & 2.758031 & 5.107875 & 1.1114793 & 1.480878 & 2.535101 & 0.4318391 & 0.1069501 & 1.140602 & 0.3815935 & 3.550772 & ... & 3.218415 & 5.465738 & 3.496481 & 4.216183 & 5.392500 & 5.701623 & 4.828745 & 5.903672 & 3.555259 & 3.536000\\\\\n",
       "\\end{tabular}\n"
      ],
      "text/markdown": [
       "\n",
       "A data.frame: 6 × 24\n",
       "\n",
       "| <!--/--> | V1 &lt;dbl&gt; | V2 &lt;dbl&gt; | V3 &lt;dbl&gt; | V4 &lt;dbl&gt; | V5 &lt;dbl&gt; | V6 &lt;dbl&gt; | V7 &lt;dbl&gt; | V8 &lt;dbl&gt; | V9 &lt;dbl&gt; | V10 &lt;dbl&gt; | ... ... | V15 &lt;dbl&gt; | V16 &lt;dbl&gt; | V17 &lt;dbl&gt; | V18 &lt;dbl&gt; | V19 &lt;dbl&gt; | V20 &lt;dbl&gt; | V21 &lt;dbl&gt; | V22 &lt;dbl&gt; | V23 &lt;dbl&gt; | V24 &lt;dbl&gt; |\n",
       "|---|---|---|---|---|---|---|---|---|---|---|---|---|---|---|---|---|---|---|---|---|---|\n",
       "| 1 | 2.720515 | 5.091653 | 0.8187731 | 1.417230 | 1.617348 | 0.4318391 | 0.1069501 | 1.458909 | 0.2156489 | 3.601366 | ... | 3.111599 | 5.297683 | 3.435872 | 3.975220 | 5.343028 | 4.732990 | 4.620013 | 5.594588 | 2.642312 | 2.785648 |\n",
       "| 2 | 3.224918 | 5.042011 | 0.9438512 | 1.857299 | 2.620630 | 0.4349529 | 0.2350726 | 1.590319 | 0.5630247 | 3.880478 | ... | 2.706725 | 5.559533 | 3.514353 | 2.271154 | 5.460328 | 5.396564 | 5.263660 | 6.220653 | 4.631720 | 3.566313 |\n",
       "| 3 | 3.224821 | 5.051031 | 0.6398849 | 1.344177 | 2.822803 | 0.4318391 | 0.1163682 | 1.007749 | 0.2156489 | 3.519681 | ... | 3.676486 | 5.400606 | 2.727812 | 3.647988 | 5.424318 | 4.991720 | 4.282967 | 5.563038 | 2.925079 | 3.622848 |\n",
       "| 4 | 3.251661 | 4.931928 | 1.3606697 | 1.344177 | 1.903621 | 0.7378591 | 0.1069501 | 1.605631 | 0.2156489 | 3.366665 | ... | 3.282933 | 5.040122 | 2.972587 | 3.281022 | 5.475883 | 4.281429 | 5.021779 | 5.685226 | 3.677922 | 3.515676 |\n",
       "| 5 | 3.138238 | 5.023952 | 1.0145826 | 2.187875 | 2.343742 | 0.8865858 | 0.1141995 | 1.738526 | 0.3642047 | 4.073721 | ... | 2.545289 | 4.428783 | 3.722516 | 2.770751 | 5.439720 | 4.968496 | 5.479558 | 6.146024 | 4.270580 | 3.501113 |\n",
       "| 6 | 2.758031 | 5.107875 | 1.1114793 | 1.480878 | 2.535101 | 0.4318391 | 0.1069501 | 1.140602 | 0.3815935 | 3.550772 | ... | 3.218415 | 5.465738 | 3.496481 | 4.216183 | 5.392500 | 5.701623 | 4.828745 | 5.903672 | 3.555259 | 3.536000 |\n",
       "\n"
      ],
      "text/plain": [
       "  V1       V2       V3        V4       V5       V6        V7        V8      \n",
       "1 2.720515 5.091653 0.8187731 1.417230 1.617348 0.4318391 0.1069501 1.458909\n",
       "2 3.224918 5.042011 0.9438512 1.857299 2.620630 0.4349529 0.2350726 1.590319\n",
       "3 3.224821 5.051031 0.6398849 1.344177 2.822803 0.4318391 0.1163682 1.007749\n",
       "4 3.251661 4.931928 1.3606697 1.344177 1.903621 0.7378591 0.1069501 1.605631\n",
       "5 3.138238 5.023952 1.0145826 2.187875 2.343742 0.8865858 0.1141995 1.738526\n",
       "6 2.758031 5.107875 1.1114793 1.480878 2.535101 0.4318391 0.1069501 1.140602\n",
       "  V9        V10      ... V15      V16      V17      V18      V19      V20     \n",
       "1 0.2156489 3.601366 ... 3.111599 5.297683 3.435872 3.975220 5.343028 4.732990\n",
       "2 0.5630247 3.880478 ... 2.706725 5.559533 3.514353 2.271154 5.460328 5.396564\n",
       "3 0.2156489 3.519681 ... 3.676486 5.400606 2.727812 3.647988 5.424318 4.991720\n",
       "4 0.2156489 3.366665 ... 3.282933 5.040122 2.972587 3.281022 5.475883 4.281429\n",
       "5 0.3642047 4.073721 ... 2.545289 4.428783 3.722516 2.770751 5.439720 4.968496\n",
       "6 0.3815935 3.550772 ... 3.218415 5.465738 3.496481 4.216183 5.392500 5.701623\n",
       "  V21      V22      V23      V24     \n",
       "1 4.620013 5.594588 2.642312 2.785648\n",
       "2 5.263660 6.220653 4.631720 3.566313\n",
       "3 4.282967 5.563038 2.925079 3.622848\n",
       "4 5.021779 5.685226 3.677922 3.515676\n",
       "5 5.479558 6.146024 4.270580 3.501113\n",
       "6 4.828745 5.903672 3.555259 3.536000"
      ]
     },
     "metadata": {},
     "output_type": "display_data"
    }
   ],
   "source": [
    "head(frame)"
   ]
  },
  {
   "cell_type": "code",
   "execution_count": 11,
   "metadata": {},
   "outputs": [
    {
     "data": {
      "text/html": [
       "'C:/Users/oaona/OneDrive/Desktop/JAWAD/concatBBT_um_vs_m.fcs'"
      ],
      "text/latex": [
       "'C:/Users/oaona/OneDrive/Desktop/JAWAD/concatBBT\\_um\\_vs\\_m.fcs'"
      ],
      "text/markdown": [
       "'C:/Users/oaona/OneDrive/Desktop/JAWAD/concatBBT_um_vs_m.fcs'"
      ],
      "text/plain": [
       "[1] \"C:/Users/oaona/OneDrive/Desktop/JAWAD/concatBBT_um_vs_m.fcs\""
      ]
     },
     "metadata": {},
     "output_type": "display_data"
    }
   ],
   "source": [
    "concatBBT<- frame\n",
    "\n",
    "\n",
    "newBBT<- frame\n",
    "\n",
    "library(Biobase)\n",
    "\n",
    "meta <- data.frame(name=colnames(newBBT),\n",
    "   desc=paste('this is column',colnames(newBBT),'from your CSV'))\n",
    "\n",
    "\n",
    "meta$range <- apply(apply(newBBT,2,range),2,diff)\n",
    "meta$minRange <- apply(newBBT,2,min)\n",
    "meta$maxRange <- apply(newBBT,2,max)\n",
    "\n",
    "\n",
    "\n",
    "ff <- new(\"flowFrame\", exprs= data.matrix(newBBT), parameters=AnnotatedDataFrame(meta))\n",
    "\n",
    "\n",
    "ff <- new(\"flowFrame\", exprs= data.matrix(concatBBT), parameters=AnnotatedDataFrame(meta))\n",
    "write.FCS(ff, paste('C:/Users/oaona/OneDrive/Desktop/JAWAD/', \"concatBBT_um_vs_m\", '.fcs', sep=''))\n"
   ]
  },
  {
   "cell_type": "code",
   "execution_count": 12,
   "metadata": {},
   "outputs": [
    {
     "data": {
      "image/png": "[encoded data removed]",
      "text/plain": [
       "Plot with title \"\""
      ]
     },
     "metadata": {
      "image/png": {
       "height": 420,
       "width": 420
      },
      "text/plain": {
       "height": 420,
       "width": 420
      }
     },
     "output_type": "display_data"
    }
   ],
   "source": [
    "set.seed(45)\n",
    "fSOM <- FlowSOM('C:/Users/oaona/OneDrive/Desktop/JAWAD/concatBBT_um_vs_m.fcs',\n",
    "# Input options:\n",
    " compensate = FALSE, transform = FALSE,\n",
    "  scale = FALSE,\n",
    " # SOM options:\n",
    " colsToUse = c(1:24), xdim = 10, ydim = 10,\n",
    " # Metaclustering options:\n",
    " nClus = 12)\n",
    "#nClus = 50\n",
    "PlotStars(fSOM[[1]], backgroundValues = as.factor(fSOM[[2]]))"
   ]
  },
  {
   "cell_type": "code",
   "execution_count": null,
   "metadata": {},
   "outputs": [],
   "source": []
  },
  {
   "cell_type": "code",
   "execution_count": 13,
   "metadata": {},
   "outputs": [],
   "source": [
    "#library(R.utils)\n",
    "#length<- c()\n",
    "#for (xyz in c(cal, cal1, cal2))\n",
    "#    {#yz<- read.FCS(xyz)\n",
    "    #kkk<- paste(xyz, dim(exprs(yz))[1], \"\")\n",
    "#    kkk<- dim(xyz)[1]\n",
    "#    length<- append(length, kkk)}\n",
    "pp<- cumsum(length)\n",
    "qq<- pp\n",
    "qq<- R.utils::insert(qq, 1, 1)\n",
    "qq[1]<- 0\n",
    "\n",
    "\n",
    "\n",
    "\n",
    "xjx=12\n",
    "yyy<- fSOM[[2]]\n",
    "attributes(yyy)<- NULL\n",
    "for (i in c(1:xjx))\n",
    "    {assign(paste(\"yyy\", i, sep=\"\"), which(i == yyy))}\n",
    "vv<- c()\n",
    "for (x in c(1:xjx))\n",
    "    {yy<- paste(\"yyy\", x, sep=\"\")\n",
    "    vv= append(vv, yy)}\n",
    "\n",
    "pqr<- c()\n",
    "for (i in c(2:33))\n",
    "    {new<- c()\n",
    "    kjk<- fSOM[[1]]$map$mapping[ ,1][(qq[i-1]+1):qq[i]]\n",
    "    kjk<- table(kjk)\n",
    "    for (p in vv)\n",
    "                 {yk<- kjk[get(p)]\n",
    "            attributes(yk)<- NULL\n",
    "            yk[is.na(yk)] <- 0\n",
    "            yk<- sum(yk)\n",
    "            new<- append(new, yk)}\n",
    "    #new[is.na(new)] <- 0\n",
    "    new1<- rep(c(sum(new)), times = xjx)  \n",
    "    new2<- (new/new1)*100\n",
    "    pqr<- rbind(pqr, new2)}  \n"
   ]
  },
  {
   "cell_type": "code",
   "execution_count": 14,
   "metadata": {},
   "outputs": [
    {
     "data": {
      "text/html": [
       "<table>\n",
       "<caption>A matrix: 32 × 12 of type dbl</caption>\n",
       "<tbody>\n",
       "\t<tr><th scope=row>new2</th><td> 2.6644722</td><td> 0.71616031</td><td> 0.1378942</td><td> 0.121584153</td><td> 7.867384310</td><td> 9.93876310</td><td> 1.3033228</td><td>16.2136916</td><td> 9.6155272</td><td> 0.041516540</td><td>50.6012485</td><td> 0.778435123</td></tr>\n",
       "\t<tr><th scope=row>new2</th><td> 3.3994525</td><td> 0.08077907</td><td> 0.9244716</td><td> 0.038145672</td><td> 0.148094960</td><td> 5.09581295</td><td> 1.3508055</td><td> 2.7801463</td><td>40.2593906</td><td>12.648655926</td><td>32.6392317</td><td> 0.635013239</td></tr>\n",
       "\t<tr><th scope=row>new2</th><td> 1.2839939</td><td> 1.10854135</td><td>23.7837946</td><td> 2.300821437</td><td> 0.683866337</td><td>20.36246910</td><td> 4.6794003</td><td> 1.7345881</td><td>26.6727809</td><td> 0.370842970</td><td>15.2304809</td><td> 1.788420129</td></tr>\n",
       "\t<tr><th scope=row>new2</th><td> 5.0762403</td><td>10.85116067</td><td> 1.0366409</td><td> 0.228720983</td><td> 1.544151115</td><td> 3.57077833</td><td> 1.2653619</td><td>21.5259445</td><td> 5.0000000</td><td> 0.143377333</td><td>48.4911243</td><td> 1.266499772</td></tr>\n",
       "\t<tr><th scope=row>new2</th><td> 1.1500701</td><td> 0.03883914</td><td> 0.2373503</td><td> 0.006473190</td><td> 0.558852088</td><td>36.39227533</td><td> 0.7163664</td><td> 0.9731363</td><td>32.9938505</td><td> 0.002157730</td><td>26.8011652</td><td> 0.129463804</td></tr>\n",
       "\t<tr><th scope=row>new2</th><td> 1.6711804</td><td> 0.03082546</td><td> 0.3258692</td><td> 9.848735055</td><td> 0.435960103</td><td> 8.83810027</td><td> 0.7684347</td><td> 5.6762886</td><td>40.5729132</td><td> 0.374309179</td><td>29.3744633</td><td> 2.082920492</td></tr>\n",
       "\t<tr><th scope=row>new2</th><td>23.1802756</td><td> 0.05194266</td><td> 2.5174874</td><td> 0.017314218</td><td> 0.048479812</td><td> 0.01385137</td><td> 0.9799848</td><td> 3.8541450</td><td>64.1387908</td><td> 0.079645405</td><td> 1.9634324</td><td> 3.154650599</td></tr>\n",
       "\t<tr><th scope=row>new2</th><td>14.4284129</td><td> 0.34881877</td><td> 3.8370065</td><td> 0.031710798</td><td> 0.079276994</td><td> 0.07927699</td><td> 4.2651023</td><td>24.8454099</td><td>11.4158871</td><td> 0.015855399</td><td>40.6373870</td><td> 0.015855399</td></tr>\n",
       "\t<tr><th scope=row>new2</th><td>24.2795347</td><td> 2.01817969</td><td>14.4107675</td><td> 0.268895774</td><td> 2.915473198</td><td> 2.28853686</td><td> 2.2330040</td><td> 5.2770796</td><td>42.9312562</td><td> 1.017127492</td><td> 2.1438592</td><td> 0.216285731</td></tr>\n",
       "\t<tr><th scope=row>new2</th><td>21.0282580</td><td> 0.28001226</td><td> 0.2824976</td><td> 0.025681598</td><td> 0.473866903</td><td> 0.42250371</td><td> 4.2515471</td><td>37.3054205</td><td>15.0013669</td><td> 0.009112825</td><td>20.6281222</td><td> 0.291610402</td></tr>\n",
       "\t<tr><th scope=row>new2</th><td> 5.0614173</td><td> 0.38764494</td><td> 0.0778044</td><td> 0.069541987</td><td> 0.482662701</td><td> 0.68578039</td><td> 4.2014377</td><td> 8.0978545</td><td>42.4419565</td><td> 0.052328624</td><td>38.2274367</td><td> 0.214134237</td></tr>\n",
       "\t<tr><th scope=row>new2</th><td> 0.3250595</td><td> 0.04095750</td><td> 3.9429716</td><td> 7.761770404</td><td> 0.112470582</td><td> 9.28434904</td><td> 1.4855219</td><td> 9.5573990</td><td>43.2816705</td><td> 8.343626884</td><td>15.7972409</td><td> 0.066962254</td></tr>\n",
       "\t<tr><th scope=row>new2</th><td> 4.5322730</td><td> 0.02989626</td><td> 8.0361147</td><td> 4.726598703</td><td> 6.340996741</td><td> 1.11812012</td><td>63.5863553</td><td> 3.0972525</td><td> 5.2796795</td><td> 0.014948130</td><td> 2.9567401</td><td> 0.281024844</td></tr>\n",
       "\t<tr><th scope=row>new2</th><td>64.1521669</td><td> 0.63402860</td><td>23.2573219</td><td> 0.003602435</td><td> 1.812024929</td><td> 0.35664109</td><td> 1.0735257</td><td> 6.6284809</td><td> 0.9222234</td><td> 0.003602435</td><td> 0.8033431</td><td> 0.353038654</td></tr>\n",
       "\t<tr><th scope=row>new2</th><td>32.3800738</td><td> 0.11938355</td><td> 7.4506186</td><td> 0.043412199</td><td> 0.298458867</td><td> 3.03342739</td><td>10.2181463</td><td>29.4171912</td><td> 8.0963751</td><td> 0.048838724</td><td> 6.5009768</td><td> 2.393097460</td></tr>\n",
       "\t<tr><th scope=row>new2</th><td>66.4709679</td><td> 1.79510036</td><td>13.9827252</td><td> 0.003073802</td><td> 5.646574248</td><td> 0.05840224</td><td> 5.6219838</td><td> 2.8094550</td><td> 2.5297390</td><td> 0.073771248</td><td> 0.9129192</td><td> 0.095287862</td></tr>\n",
       "\t<tr><th scope=row>new2</th><td>56.2662309</td><td> 3.51025649</td><td> 3.6970033</td><td> 0.020425433</td><td> 9.080563742</td><td> 0.72364390</td><td> 7.8521199</td><td> 9.1068250</td><td> 4.4089755</td><td> 0.478538706</td><td> 4.2280645</td><td> 0.627352572</td></tr>\n",
       "\t<tr><th scope=row>new2</th><td>29.2618224</td><td> 1.10726644</td><td>27.1741638</td><td> 0.219146482</td><td> 0.865051903</td><td> 1.34948097</td><td> 3.4717416</td><td>12.8489043</td><td> 9.6309112</td><td> 0.011534025</td><td>13.6216840</td><td> 0.438292964</td></tr>\n",
       "\t<tr><th scope=row>new2</th><td>14.7797989</td><td> 4.11680230</td><td> 3.6740067</td><td> 0.095739588</td><td> 2.142173289</td><td>10.05265677</td><td> 3.0636668</td><td>15.4380086</td><td>35.2800383</td><td> 0.107707037</td><td>10.7707037</td><td> 0.478697942</td></tr>\n",
       "\t<tr><th scope=row>new2</th><td>21.4223003</td><td> 7.24319579</td><td>28.4460053</td><td> 7.989464442</td><td> 0.526777875</td><td> 2.43634767</td><td> 4.0605795</td><td>13.3889377</td><td> 6.8700615</td><td> 0.043898156</td><td> 2.8094820</td><td> 4.762949956</td></tr>\n",
       "\t<tr><th scope=row>new2</th><td>14.2883583</td><td> 0.60460238</td><td>11.8144241</td><td> 1.215374175</td><td> 0.172743538</td><td>11.63551114</td><td> 1.4929977</td><td>47.2021716</td><td> 3.2204331</td><td> 0.968597693</td><td> 2.0482448</td><td> 5.336541428</td></tr>\n",
       "\t<tr><th scope=row>new2</th><td> 1.2176821</td><td> 0.10719033</td><td> 4.1932856</td><td> 0.338721434</td><td> 0.017150452</td><td> 3.18998414</td><td> 0.2358187</td><td> 6.8130172</td><td>40.7923509</td><td> 0.060026583</td><td>42.6188741</td><td> 0.415898469</td></tr>\n",
       "\t<tr><th scope=row>new2</th><td> 7.6499388</td><td> 2.50917993</td><td>10.0979192</td><td> 0.061199510</td><td> 0.122399021</td><td> 0.73439412</td><td>28.8861689</td><td>17.7478580</td><td>19.8286414</td><td> 2.203182375</td><td> 7.0379437</td><td> 3.121175031</td></tr>\n",
       "\t<tr><th scope=row>new2</th><td> 0.9627516</td><td> 0.24481826</td><td> 0.6518474</td><td>21.752778612</td><td> 0.003003905</td><td>11.58455993</td><td> 0.3319315</td><td> 2.3775909</td><td>33.8915590</td><td> 1.583057975</td><td>18.4860318</td><td> 8.130069090</td></tr>\n",
       "\t<tr><th scope=row>new2</th><td> 8.8673445</td><td> 0.30740128</td><td>18.6332466</td><td> 0.212816269</td><td> 0.023646252</td><td> 9.55308584</td><td>11.1373847</td><td>17.0725940</td><td> 4.1853866</td><td> 1.986285174</td><td>15.8666351</td><td>12.154173563</td></tr>\n",
       "\t<tr><th scope=row>new2</th><td> 4.9049839</td><td> 0.73378768</td><td> 1.5553790</td><td> 0.142158297</td><td> 7.390663545</td><td> 0.54093323</td><td> 0.5215955</td><td>22.5509052</td><td>15.0656437</td><td> 0.002613204</td><td>45.1723669</td><td> 1.418969770</td></tr>\n",
       "\t<tr><th scope=row>new2</th><td>10.0900502</td><td> 0.10850310</td><td>61.8999114</td><td> 0.275686448</td><td>10.254281075</td><td> 0.25723354</td><td> 3.5543992</td><td>10.7432831</td><td> 1.0979480</td><td> 0.003321523</td><td> 1.4367434</td><td> 0.278638913</td></tr>\n",
       "\t<tr><th scope=row>new2</th><td>17.5855817</td><td> 0.41804415</td><td> 2.5423910</td><td> 0.019195905</td><td> 0.652660766</td><td> 3.87543991</td><td>14.4353205</td><td>43.7304042</td><td> 6.0211155</td><td> 0.063986350</td><td>10.3444598</td><td> 0.311400235</td></tr>\n",
       "\t<tr><th scope=row>new2</th><td>13.4244373</td><td> 4.34083601</td><td>11.8167203</td><td> 1.795284030</td><td> 1.071811361</td><td> 3.40300107</td><td>12.7545552</td><td>28.6441586</td><td> 6.0021436</td><td> 0.294748124</td><td>10.6913183</td><td> 5.760986066</td></tr>\n",
       "\t<tr><th scope=row>new2</th><td>46.4433513</td><td> 1.11657687</td><td> 4.5892871</td><td> 0.269383931</td><td> 0.390411494</td><td> 3.55860077</td><td> 7.3065511</td><td>29.0485672</td><td> 2.1023659</td><td> 0.115171391</td><td> 2.4498321</td><td> 2.609900835</td></tr>\n",
       "\t<tr><th scope=row>new2</th><td>42.2102477</td><td> 3.11022878</td><td>28.2473057</td><td> 0.009453583</td><td> 3.828701078</td><td> 0.24579316</td><td> 9.5764795</td><td> 3.2142182</td><td> 9.3023256</td><td> 0.009453583</td><td> 0.2363396</td><td> 0.009453583</td></tr>\n",
       "\t<tr><th scope=row>new2</th><td>65.5767750</td><td> 9.99230233</td><td> 2.9177816</td><td> 0.095304424</td><td>12.250284080</td><td> 0.61947876</td><td> 1.7301419</td><td> 3.4053004</td><td> 1.1913053</td><td> 0.509512115</td><td> 1.1289909</td><td> 0.582823210</td></tr>\n",
       "</tbody>\n",
       "</table>\n"
      ],
      "text/latex": [
       "A matrix: 32 × 12 of type dbl\n",
       "\\begin{tabular}{r|llllllllllll}\n",
       "\tnew2 &  2.6644722 &  0.71616031 &  0.1378942 &  0.121584153 &  7.867384310 &  9.93876310 &  1.3033228 & 16.2136916 &  9.6155272 &  0.041516540 & 50.6012485 &  0.778435123\\\\\n",
       "\tnew2 &  3.3994525 &  0.08077907 &  0.9244716 &  0.038145672 &  0.148094960 &  5.09581295 &  1.3508055 &  2.7801463 & 40.2593906 & 12.648655926 & 32.6392317 &  0.635013239\\\\\n",
       "\tnew2 &  1.2839939 &  1.10854135 & 23.7837946 &  2.300821437 &  0.683866337 & 20.36246910 &  4.6794003 &  1.7345881 & 26.6727809 &  0.370842970 & 15.2304809 &  1.788420129\\\\\n",
       "\tnew2 &  5.0762403 & 10.85116067 &  1.0366409 &  0.228720983 &  1.544151115 &  3.57077833 &  1.2653619 & 21.5259445 &  5.0000000 &  0.143377333 & 48.4911243 &  1.266499772\\\\\n",
       "\tnew2 &  1.1500701 &  0.03883914 &  0.2373503 &  0.006473190 &  0.558852088 & 36.39227533 &  0.7163664 &  0.9731363 & 32.9938505 &  0.002157730 & 26.8011652 &  0.129463804\\\\\n",
       "\tnew2 &  1.6711804 &  0.03082546 &  0.3258692 &  9.848735055 &  0.435960103 &  8.83810027 &  0.7684347 &  5.6762886 & 40.5729132 &  0.374309179 & 29.3744633 &  2.082920492\\\\\n",
       "\tnew2 & 23.1802756 &  0.05194266 &  2.5174874 &  0.017314218 &  0.048479812 &  0.01385137 &  0.9799848 &  3.8541450 & 64.1387908 &  0.079645405 &  1.9634324 &  3.154650599\\\\\n",
       "\tnew2 & 14.4284129 &  0.34881877 &  3.8370065 &  0.031710798 &  0.079276994 &  0.07927699 &  4.2651023 & 24.8454099 & 11.4158871 &  0.015855399 & 40.6373870 &  0.015855399\\\\\n",
       "\tnew2 & 24.2795347 &  2.01817969 & 14.4107675 &  0.268895774 &  2.915473198 &  2.28853686 &  2.2330040 &  5.2770796 & 42.9312562 &  1.017127492 &  2.1438592 &  0.216285731\\\\\n",
       "\tnew2 & 21.0282580 &  0.28001226 &  0.2824976 &  0.025681598 &  0.473866903 &  0.42250371 &  4.2515471 & 37.3054205 & 15.0013669 &  0.009112825 & 20.6281222 &  0.291610402\\\\\n",
       "\tnew2 &  5.0614173 &  0.38764494 &  0.0778044 &  0.069541987 &  0.482662701 &  0.68578039 &  4.2014377 &  8.0978545 & 42.4419565 &  0.052328624 & 38.2274367 &  0.214134237\\\\\n",
       "\tnew2 &  0.3250595 &  0.04095750 &  3.9429716 &  7.761770404 &  0.112470582 &  9.28434904 &  1.4855219 &  9.5573990 & 43.2816705 &  8.343626884 & 15.7972409 &  0.066962254\\\\\n",
       "\tnew2 &  4.5322730 &  0.02989626 &  8.0361147 &  4.726598703 &  6.340996741 &  1.11812012 & 63.5863553 &  3.0972525 &  5.2796795 &  0.014948130 &  2.9567401 &  0.281024844\\\\\n",
       "\tnew2 & 64.1521669 &  0.63402860 & 23.2573219 &  0.003602435 &  1.812024929 &  0.35664109 &  1.0735257 &  6.6284809 &  0.9222234 &  0.003602435 &  0.8033431 &  0.353038654\\\\\n",
       "\tnew2 & 32.3800738 &  0.11938355 &  7.4506186 &  0.043412199 &  0.298458867 &  3.03342739 & 10.2181463 & 29.4171912 &  8.0963751 &  0.048838724 &  6.5009768 &  2.393097460\\\\\n",
       "\tnew2 & 66.4709679 &  1.79510036 & 13.9827252 &  0.003073802 &  5.646574248 &  0.05840224 &  5.6219838 &  2.8094550 &  2.5297390 &  0.073771248 &  0.9129192 &  0.095287862\\\\\n",
       "\tnew2 & 56.2662309 &  3.51025649 &  3.6970033 &  0.020425433 &  9.080563742 &  0.72364390 &  7.8521199 &  9.1068250 &  4.4089755 &  0.478538706 &  4.2280645 &  0.627352572\\\\\n",
       "\tnew2 & 29.2618224 &  1.10726644 & 27.1741638 &  0.219146482 &  0.865051903 &  1.34948097 &  3.4717416 & 12.8489043 &  9.6309112 &  0.011534025 & 13.6216840 &  0.438292964\\\\\n",
       "\tnew2 & 14.7797989 &  4.11680230 &  3.6740067 &  0.095739588 &  2.142173289 & 10.05265677 &  3.0636668 & 15.4380086 & 35.2800383 &  0.107707037 & 10.7707037 &  0.478697942\\\\\n",
       "\tnew2 & 21.4223003 &  7.24319579 & 28.4460053 &  7.989464442 &  0.526777875 &  2.43634767 &  4.0605795 & 13.3889377 &  6.8700615 &  0.043898156 &  2.8094820 &  4.762949956\\\\\n",
       "\tnew2 & 14.2883583 &  0.60460238 & 11.8144241 &  1.215374175 &  0.172743538 & 11.63551114 &  1.4929977 & 47.2021716 &  3.2204331 &  0.968597693 &  2.0482448 &  5.336541428\\\\\n",
       "\tnew2 &  1.2176821 &  0.10719033 &  4.1932856 &  0.338721434 &  0.017150452 &  3.18998414 &  0.2358187 &  6.8130172 & 40.7923509 &  0.060026583 & 42.6188741 &  0.415898469\\\\\n",
       "\tnew2 &  7.6499388 &  2.50917993 & 10.0979192 &  0.061199510 &  0.122399021 &  0.73439412 & 28.8861689 & 17.7478580 & 19.8286414 &  2.203182375 &  7.0379437 &  3.121175031\\\\\n",
       "\tnew2 &  0.9627516 &  0.24481826 &  0.6518474 & 21.752778612 &  0.003003905 & 11.58455993 &  0.3319315 &  2.3775909 & 33.8915590 &  1.583057975 & 18.4860318 &  8.130069090\\\\\n",
       "\tnew2 &  8.8673445 &  0.30740128 & 18.6332466 &  0.212816269 &  0.023646252 &  9.55308584 & 11.1373847 & 17.0725940 &  4.1853866 &  1.986285174 & 15.8666351 & 12.154173563\\\\\n",
       "\tnew2 &  4.9049839 &  0.73378768 &  1.5553790 &  0.142158297 &  7.390663545 &  0.54093323 &  0.5215955 & 22.5509052 & 15.0656437 &  0.002613204 & 45.1723669 &  1.418969770\\\\\n",
       "\tnew2 & 10.0900502 &  0.10850310 & 61.8999114 &  0.275686448 & 10.254281075 &  0.25723354 &  3.5543992 & 10.7432831 &  1.0979480 &  0.003321523 &  1.4367434 &  0.278638913\\\\\n",
       "\tnew2 & 17.5855817 &  0.41804415 &  2.5423910 &  0.019195905 &  0.652660766 &  3.87543991 & 14.4353205 & 43.7304042 &  6.0211155 &  0.063986350 & 10.3444598 &  0.311400235\\\\\n",
       "\tnew2 & 13.4244373 &  4.34083601 & 11.8167203 &  1.795284030 &  1.071811361 &  3.40300107 & 12.7545552 & 28.6441586 &  6.0021436 &  0.294748124 & 10.6913183 &  5.760986066\\\\\n",
       "\tnew2 & 46.4433513 &  1.11657687 &  4.5892871 &  0.269383931 &  0.390411494 &  3.55860077 &  7.3065511 & 29.0485672 &  2.1023659 &  0.115171391 &  2.4498321 &  2.609900835\\\\\n",
       "\tnew2 & 42.2102477 &  3.11022878 & 28.2473057 &  0.009453583 &  3.828701078 &  0.24579316 &  9.5764795 &  3.2142182 &  9.3023256 &  0.009453583 &  0.2363396 &  0.009453583\\\\\n",
       "\tnew2 & 65.5767750 &  9.99230233 &  2.9177816 &  0.095304424 & 12.250284080 &  0.61947876 &  1.7301419 &  3.4053004 &  1.1913053 &  0.509512115 &  1.1289909 &  0.582823210\\\\\n",
       "\\end{tabular}\n"
      ],
      "text/markdown": [
       "\n",
       "A matrix: 32 × 12 of type dbl\n",
       "\n",
       "| new2 |  2.6644722 |  0.71616031 |  0.1378942 |  0.121584153 |  7.867384310 |  9.93876310 |  1.3033228 | 16.2136916 |  9.6155272 |  0.041516540 | 50.6012485 |  0.778435123 |\n",
       "| new2 |  3.3994525 |  0.08077907 |  0.9244716 |  0.038145672 |  0.148094960 |  5.09581295 |  1.3508055 |  2.7801463 | 40.2593906 | 12.648655926 | 32.6392317 |  0.635013239 |\n",
       "| new2 |  1.2839939 |  1.10854135 | 23.7837946 |  2.300821437 |  0.683866337 | 20.36246910 |  4.6794003 |  1.7345881 | 26.6727809 |  0.370842970 | 15.2304809 |  1.788420129 |\n",
       "| new2 |  5.0762403 | 10.85116067 |  1.0366409 |  0.228720983 |  1.544151115 |  3.57077833 |  1.2653619 | 21.5259445 |  5.0000000 |  0.143377333 | 48.4911243 |  1.266499772 |\n",
       "| new2 |  1.1500701 |  0.03883914 |  0.2373503 |  0.006473190 |  0.558852088 | 36.39227533 |  0.7163664 |  0.9731363 | 32.9938505 |  0.002157730 | 26.8011652 |  0.129463804 |\n",
       "| new2 |  1.6711804 |  0.03082546 |  0.3258692 |  9.848735055 |  0.435960103 |  8.83810027 |  0.7684347 |  5.6762886 | 40.5729132 |  0.374309179 | 29.3744633 |  2.082920492 |\n",
       "| new2 | 23.1802756 |  0.05194266 |  2.5174874 |  0.017314218 |  0.048479812 |  0.01385137 |  0.9799848 |  3.8541450 | 64.1387908 |  0.079645405 |  1.9634324 |  3.154650599 |\n",
       "| new2 | 14.4284129 |  0.34881877 |  3.8370065 |  0.031710798 |  0.079276994 |  0.07927699 |  4.2651023 | 24.8454099 | 11.4158871 |  0.015855399 | 40.6373870 |  0.015855399 |\n",
       "| new2 | 24.2795347 |  2.01817969 | 14.4107675 |  0.268895774 |  2.915473198 |  2.28853686 |  2.2330040 |  5.2770796 | 42.9312562 |  1.017127492 |  2.1438592 |  0.216285731 |\n",
       "| new2 | 21.0282580 |  0.28001226 |  0.2824976 |  0.025681598 |  0.473866903 |  0.42250371 |  4.2515471 | 37.3054205 | 15.0013669 |  0.009112825 | 20.6281222 |  0.291610402 |\n",
       "| new2 |  5.0614173 |  0.38764494 |  0.0778044 |  0.069541987 |  0.482662701 |  0.68578039 |  4.2014377 |  8.0978545 | 42.4419565 |  0.052328624 | 38.2274367 |  0.214134237 |\n",
       "| new2 |  0.3250595 |  0.04095750 |  3.9429716 |  7.761770404 |  0.112470582 |  9.28434904 |  1.4855219 |  9.5573990 | 43.2816705 |  8.343626884 | 15.7972409 |  0.066962254 |\n",
       "| new2 |  4.5322730 |  0.02989626 |  8.0361147 |  4.726598703 |  6.340996741 |  1.11812012 | 63.5863553 |  3.0972525 |  5.2796795 |  0.014948130 |  2.9567401 |  0.281024844 |\n",
       "| new2 | 64.1521669 |  0.63402860 | 23.2573219 |  0.003602435 |  1.812024929 |  0.35664109 |  1.0735257 |  6.6284809 |  0.9222234 |  0.003602435 |  0.8033431 |  0.353038654 |\n",
       "| new2 | 32.3800738 |  0.11938355 |  7.4506186 |  0.043412199 |  0.298458867 |  3.03342739 | 10.2181463 | 29.4171912 |  8.0963751 |  0.048838724 |  6.5009768 |  2.393097460 |\n",
       "| new2 | 66.4709679 |  1.79510036 | 13.9827252 |  0.003073802 |  5.646574248 |  0.05840224 |  5.6219838 |  2.8094550 |  2.5297390 |  0.073771248 |  0.9129192 |  0.095287862 |\n",
       "| new2 | 56.2662309 |  3.51025649 |  3.6970033 |  0.020425433 |  9.080563742 |  0.72364390 |  7.8521199 |  9.1068250 |  4.4089755 |  0.478538706 |  4.2280645 |  0.627352572 |\n",
       "| new2 | 29.2618224 |  1.10726644 | 27.1741638 |  0.219146482 |  0.865051903 |  1.34948097 |  3.4717416 | 12.8489043 |  9.6309112 |  0.011534025 | 13.6216840 |  0.438292964 |\n",
       "| new2 | 14.7797989 |  4.11680230 |  3.6740067 |  0.095739588 |  2.142173289 | 10.05265677 |  3.0636668 | 15.4380086 | 35.2800383 |  0.107707037 | 10.7707037 |  0.478697942 |\n",
       "| new2 | 21.4223003 |  7.24319579 | 28.4460053 |  7.989464442 |  0.526777875 |  2.43634767 |  4.0605795 | 13.3889377 |  6.8700615 |  0.043898156 |  2.8094820 |  4.762949956 |\n",
       "| new2 | 14.2883583 |  0.60460238 | 11.8144241 |  1.215374175 |  0.172743538 | 11.63551114 |  1.4929977 | 47.2021716 |  3.2204331 |  0.968597693 |  2.0482448 |  5.336541428 |\n",
       "| new2 |  1.2176821 |  0.10719033 |  4.1932856 |  0.338721434 |  0.017150452 |  3.18998414 |  0.2358187 |  6.8130172 | 40.7923509 |  0.060026583 | 42.6188741 |  0.415898469 |\n",
       "| new2 |  7.6499388 |  2.50917993 | 10.0979192 |  0.061199510 |  0.122399021 |  0.73439412 | 28.8861689 | 17.7478580 | 19.8286414 |  2.203182375 |  7.0379437 |  3.121175031 |\n",
       "| new2 |  0.9627516 |  0.24481826 |  0.6518474 | 21.752778612 |  0.003003905 | 11.58455993 |  0.3319315 |  2.3775909 | 33.8915590 |  1.583057975 | 18.4860318 |  8.130069090 |\n",
       "| new2 |  8.8673445 |  0.30740128 | 18.6332466 |  0.212816269 |  0.023646252 |  9.55308584 | 11.1373847 | 17.0725940 |  4.1853866 |  1.986285174 | 15.8666351 | 12.154173563 |\n",
       "| new2 |  4.9049839 |  0.73378768 |  1.5553790 |  0.142158297 |  7.390663545 |  0.54093323 |  0.5215955 | 22.5509052 | 15.0656437 |  0.002613204 | 45.1723669 |  1.418969770 |\n",
       "| new2 | 10.0900502 |  0.10850310 | 61.8999114 |  0.275686448 | 10.254281075 |  0.25723354 |  3.5543992 | 10.7432831 |  1.0979480 |  0.003321523 |  1.4367434 |  0.278638913 |\n",
       "| new2 | 17.5855817 |  0.41804415 |  2.5423910 |  0.019195905 |  0.652660766 |  3.87543991 | 14.4353205 | 43.7304042 |  6.0211155 |  0.063986350 | 10.3444598 |  0.311400235 |\n",
       "| new2 | 13.4244373 |  4.34083601 | 11.8167203 |  1.795284030 |  1.071811361 |  3.40300107 | 12.7545552 | 28.6441586 |  6.0021436 |  0.294748124 | 10.6913183 |  5.760986066 |\n",
       "| new2 | 46.4433513 |  1.11657687 |  4.5892871 |  0.269383931 |  0.390411494 |  3.55860077 |  7.3065511 | 29.0485672 |  2.1023659 |  0.115171391 |  2.4498321 |  2.609900835 |\n",
       "| new2 | 42.2102477 |  3.11022878 | 28.2473057 |  0.009453583 |  3.828701078 |  0.24579316 |  9.5764795 |  3.2142182 |  9.3023256 |  0.009453583 |  0.2363396 |  0.009453583 |\n",
       "| new2 | 65.5767750 |  9.99230233 |  2.9177816 |  0.095304424 | 12.250284080 |  0.61947876 |  1.7301419 |  3.4053004 |  1.1913053 |  0.509512115 |  1.1289909 |  0.582823210 |\n",
       "\n"
      ],
      "text/plain": [
       "     [,1]       [,2]        [,3]       [,4]         [,5]         [,6]       \n",
       "new2  2.6644722  0.71616031  0.1378942  0.121584153  7.867384310  9.93876310\n",
       "new2  3.3994525  0.08077907  0.9244716  0.038145672  0.148094960  5.09581295\n",
       "new2  1.2839939  1.10854135 23.7837946  2.300821437  0.683866337 20.36246910\n",
       "new2  5.0762403 10.85116067  1.0366409  0.228720983  1.544151115  3.57077833\n",
       "new2  1.1500701  0.03883914  0.2373503  0.006473190  0.558852088 36.39227533\n",
       "new2  1.6711804  0.03082546  0.3258692  9.848735055  0.435960103  8.83810027\n",
       "new2 23.1802756  0.05194266  2.5174874  0.017314218  0.048479812  0.01385137\n",
       "new2 14.4284129  0.34881877  3.8370065  0.031710798  0.079276994  0.07927699\n",
       "new2 24.2795347  2.01817969 14.4107675  0.268895774  2.915473198  2.28853686\n",
       "new2 21.0282580  0.28001226  0.2824976  0.025681598  0.473866903  0.42250371\n",
       "new2  5.0614173  0.38764494  0.0778044  0.069541987  0.482662701  0.68578039\n",
       "new2  0.3250595  0.04095750  3.9429716  7.761770404  0.112470582  9.28434904\n",
       "new2  4.5322730  0.02989626  8.0361147  4.726598703  6.340996741  1.11812012\n",
       "new2 64.1521669  0.63402860 23.2573219  0.003602435  1.812024929  0.35664109\n",
       "new2 32.3800738  0.11938355  7.4506186  0.043412199  0.298458867  3.03342739\n",
       "new2 66.4709679  1.79510036 13.9827252  0.003073802  5.646574248  0.05840224\n",
       "new2 56.2662309  3.51025649  3.6970033  0.020425433  9.080563742  0.72364390\n",
       "new2 29.2618224  1.10726644 27.1741638  0.219146482  0.865051903  1.34948097\n",
       "new2 14.7797989  4.11680230  3.6740067  0.095739588  2.142173289 10.05265677\n",
       "new2 21.4223003  7.24319579 28.4460053  7.989464442  0.526777875  2.43634767\n",
       "new2 14.2883583  0.60460238 11.8144241  1.215374175  0.172743538 11.63551114\n",
       "new2  1.2176821  0.10719033  4.1932856  0.338721434  0.017150452  3.18998414\n",
       "new2  7.6499388  2.50917993 10.0979192  0.061199510  0.122399021  0.73439412\n",
       "new2  0.9627516  0.24481826  0.6518474 21.752778612  0.003003905 11.58455993\n",
       "new2  8.8673445  0.30740128 18.6332466  0.212816269  0.023646252  9.55308584\n",
       "new2  4.9049839  0.73378768  1.5553790  0.142158297  7.390663545  0.54093323\n",
       "new2 10.0900502  0.10850310 61.8999114  0.275686448 10.254281075  0.25723354\n",
       "new2 17.5855817  0.41804415  2.5423910  0.019195905  0.652660766  3.87543991\n",
       "new2 13.4244373  4.34083601 11.8167203  1.795284030  1.071811361  3.40300107\n",
       "new2 46.4433513  1.11657687  4.5892871  0.269383931  0.390411494  3.55860077\n",
       "new2 42.2102477  3.11022878 28.2473057  0.009453583  3.828701078  0.24579316\n",
       "new2 65.5767750  9.99230233  2.9177816  0.095304424 12.250284080  0.61947876\n",
       "     [,7]       [,8]       [,9]       [,10]        [,11]      [,12]       \n",
       "new2  1.3033228 16.2136916  9.6155272  0.041516540 50.6012485  0.778435123\n",
       "new2  1.3508055  2.7801463 40.2593906 12.648655926 32.6392317  0.635013239\n",
       "new2  4.6794003  1.7345881 26.6727809  0.370842970 15.2304809  1.788420129\n",
       "new2  1.2653619 21.5259445  5.0000000  0.143377333 48.4911243  1.266499772\n",
       "new2  0.7163664  0.9731363 32.9938505  0.002157730 26.8011652  0.129463804\n",
       "new2  0.7684347  5.6762886 40.5729132  0.374309179 29.3744633  2.082920492\n",
       "new2  0.9799848  3.8541450 64.1387908  0.079645405  1.9634324  3.154650599\n",
       "new2  4.2651023 24.8454099 11.4158871  0.015855399 40.6373870  0.015855399\n",
       "new2  2.2330040  5.2770796 42.9312562  1.017127492  2.1438592  0.216285731\n",
       "new2  4.2515471 37.3054205 15.0013669  0.009112825 20.6281222  0.291610402\n",
       "new2  4.2014377  8.0978545 42.4419565  0.052328624 38.2274367  0.214134237\n",
       "new2  1.4855219  9.5573990 43.2816705  8.343626884 15.7972409  0.066962254\n",
       "new2 63.5863553  3.0972525  5.2796795  0.014948130  2.9567401  0.281024844\n",
       "new2  1.0735257  6.6284809  0.9222234  0.003602435  0.8033431  0.353038654\n",
       "new2 10.2181463 29.4171912  8.0963751  0.048838724  6.5009768  2.393097460\n",
       "new2  5.6219838  2.8094550  2.5297390  0.073771248  0.9129192  0.095287862\n",
       "new2  7.8521199  9.1068250  4.4089755  0.478538706  4.2280645  0.627352572\n",
       "new2  3.4717416 12.8489043  9.6309112  0.011534025 13.6216840  0.438292964\n",
       "new2  3.0636668 15.4380086 35.2800383  0.107707037 10.7707037  0.478697942\n",
       "new2  4.0605795 13.3889377  6.8700615  0.043898156  2.8094820  4.762949956\n",
       "new2  1.4929977 47.2021716  3.2204331  0.968597693  2.0482448  5.336541428\n",
       "new2  0.2358187  6.8130172 40.7923509  0.060026583 42.6188741  0.415898469\n",
       "new2 28.8861689 17.7478580 19.8286414  2.203182375  7.0379437  3.121175031\n",
       "new2  0.3319315  2.3775909 33.8915590  1.583057975 18.4860318  8.130069090\n",
       "new2 11.1373847 17.0725940  4.1853866  1.986285174 15.8666351 12.154173563\n",
       "new2  0.5215955 22.5509052 15.0656437  0.002613204 45.1723669  1.418969770\n",
       "new2  3.5543992 10.7432831  1.0979480  0.003321523  1.4367434  0.278638913\n",
       "new2 14.4353205 43.7304042  6.0211155  0.063986350 10.3444598  0.311400235\n",
       "new2 12.7545552 28.6441586  6.0021436  0.294748124 10.6913183  5.760986066\n",
       "new2  7.3065511 29.0485672  2.1023659  0.115171391  2.4498321  2.609900835\n",
       "new2  9.5764795  3.2142182  9.3023256  0.009453583  0.2363396  0.009453583\n",
       "new2  1.7301419  3.4053004  1.1913053  0.509512115  1.1289909  0.582823210"
      ]
     },
     "metadata": {},
     "output_type": "display_data"
    }
   ],
   "source": [
    "pqr"
   ]
  },
  {
   "cell_type": "code",
   "execution_count": 15,
   "metadata": {},
   "outputs": [
    {
     "data": {
      "text/html": [
       "<style>\n",
       ".dl-inline {width: auto; margin:0; padding: 0}\n",
       ".dl-inline>dt, .dl-inline>dd {float: none; width: auto; display: inline-block}\n",
       ".dl-inline>dt::after {content: \":\\0020\"; padding-right: .5ex}\n",
       ".dl-inline>dt:not(:first-of-type) {padding-left: .5ex}\n",
       "</style><dl class=dl-inline><dt>new2</dt><dd>100</dd><dt>new2</dt><dd>100</dd><dt>new2</dt><dd>100</dd><dt>new2</dt><dd>100</dd><dt>new2</dt><dd>100</dd><dt>new2</dt><dd>100</dd><dt>new2</dt><dd>100</dd><dt>new2</dt><dd>100</dd><dt>new2</dt><dd>100</dd><dt>new2</dt><dd>100</dd><dt>new2</dt><dd>100</dd><dt>new2</dt><dd>100</dd><dt>new2</dt><dd>100</dd><dt>new2</dt><dd>100</dd><dt>new2</dt><dd>100</dd><dt>new2</dt><dd>100</dd><dt>new2</dt><dd>100</dd><dt>new2</dt><dd>100</dd><dt>new2</dt><dd>100</dd><dt>new2</dt><dd>100</dd><dt>new2</dt><dd>100</dd><dt>new2</dt><dd>100</dd><dt>new2</dt><dd>100</dd><dt>new2</dt><dd>100</dd><dt>new2</dt><dd>100</dd><dt>new2</dt><dd>100</dd><dt>new2</dt><dd>100</dd><dt>new2</dt><dd>100</dd><dt>new2</dt><dd>100</dd><dt>new2</dt><dd>100</dd><dt>new2</dt><dd>100</dd><dt>new2</dt><dd>100</dd></dl>\n"
      ],
      "text/latex": [
       "\\begin{description*}\n",
       "\\item[new2] 100\n",
       "\\item[new2] 100\n",
       "\\item[new2] 100\n",
       "\\item[new2] 100\n",
       "\\item[new2] 100\n",
       "\\item[new2] 100\n",
       "\\item[new2] 100\n",
       "\\item[new2] 100\n",
       "\\item[new2] 100\n",
       "\\item[new2] 100\n",
       "\\item[new2] 100\n",
       "\\item[new2] 100\n",
       "\\item[new2] 100\n",
       "\\item[new2] 100\n",
       "\\item[new2] 100\n",
       "\\item[new2] 100\n",
       "\\item[new2] 100\n",
       "\\item[new2] 100\n",
       "\\item[new2] 100\n",
       "\\item[new2] 100\n",
       "\\item[new2] 100\n",
       "\\item[new2] 100\n",
       "\\item[new2] 100\n",
       "\\item[new2] 100\n",
       "\\item[new2] 100\n",
       "\\item[new2] 100\n",
       "\\item[new2] 100\n",
       "\\item[new2] 100\n",
       "\\item[new2] 100\n",
       "\\item[new2] 100\n",
       "\\item[new2] 100\n",
       "\\item[new2] 100\n",
       "\\end{description*}\n"
      ],
      "text/markdown": [
       "new2\n",
       ":   100new2\n",
       ":   100new2\n",
       ":   100new2\n",
       ":   100new2\n",
       ":   100new2\n",
       ":   100new2\n",
       ":   100new2\n",
       ":   100new2\n",
       ":   100new2\n",
       ":   100new2\n",
       ":   100new2\n",
       ":   100new2\n",
       ":   100new2\n",
       ":   100new2\n",
       ":   100new2\n",
       ":   100new2\n",
       ":   100new2\n",
       ":   100new2\n",
       ":   100new2\n",
       ":   100new2\n",
       ":   100new2\n",
       ":   100new2\n",
       ":   100new2\n",
       ":   100new2\n",
       ":   100new2\n",
       ":   100new2\n",
       ":   100new2\n",
       ":   100new2\n",
       ":   100new2\n",
       ":   100new2\n",
       ":   100new2\n",
       ":   100\n",
       "\n"
      ],
      "text/plain": [
       "new2 new2 new2 new2 new2 new2 new2 new2 new2 new2 new2 new2 new2 new2 new2 new2 \n",
       " 100  100  100  100  100  100  100  100  100  100  100  100  100  100  100  100 \n",
       "new2 new2 new2 new2 new2 new2 new2 new2 new2 new2 new2 new2 new2 new2 new2 new2 \n",
       " 100  100  100  100  100  100  100  100  100  100  100  100  100  100  100  100 "
      ]
     },
     "metadata": {},
     "output_type": "display_data"
    }
   ],
   "source": [
    "rowSums(pqr)"
   ]
  },
  {
   "cell_type": "code",
   "execution_count": 16,
   "metadata": {},
   "outputs": [],
   "source": [
    "rownames(pqr)<- c(1:32)\n",
    "colnames(pqr)<- LETTERS[seq( from = 1, to = 12 )]"
   ]
  },
  {
   "cell_type": "code",
   "execution_count": 17,
   "metadata": {},
   "outputs": [
    {
     "data": {
      "image/png": "[encoded data removed]",
      "text/plain": [
       "Plot with title \"\""
      ]
     },
     "metadata": {
      "image/png": {
       "height": 420,
       "width": 420
      },
      "text/plain": {
       "height": 420,
       "width": 420
      }
     },
     "output_type": "display_data"
    }
   ],
   "source": [
    "corrmatrix <- cor(pqr)\n",
    "corrplot(corrmatrix, method = 'color', order=\"hclust\")"
   ]
  },
  {
   "cell_type": "code",
   "execution_count": 18,
   "metadata": {},
   "outputs": [],
   "source": [
    "xxx<- c()\n",
    "for(klp in c(1:12))\n",
    "    {wwn<- pqr[1:17, klp]\n",
    "    wwp<- pqr[18:32, klp]\n",
    "    xy<- t.test(wwn, wwp) \n",
    "    xxx<- append(xxx, xy[[3]])}\n",
    "    "
   ]
  },
  {
   "cell_type": "code",
   "execution_count": 19,
   "metadata": {},
   "outputs": [
    {
     "data": {
      "text/html": [
       "<style>\n",
       ".list-inline {list-style: none; margin:0; padding: 0}\n",
       ".list-inline>li {display: inline-block}\n",
       ".list-inline>li:not(:last-child)::after {content: \"\\00b7\"; padding: 0 .5ex}\n",
       "</style>\n",
       "<ol class=list-inline><li>0.92899520954835</li><li>0.274065755032839</li><li>0.0943868185594563</li><li>0.634821451888308</li><li>0.766527881199354</li><li>0.484905413130443</li><li>0.99569819908926</li><li>0.118069829760643</li><li>0.0890491958030971</li><li>0.337346242166184</li><li>0.186883537807939</li><li>0.0336894090568585</li></ol>\n"
      ],
      "text/latex": [
       "\\begin{enumerate*}\n",
       "\\item 0.92899520954835\n",
       "\\item 0.274065755032839\n",
       "\\item 0.0943868185594563\n",
       "\\item 0.634821451888308\n",
       "\\item 0.766527881199354\n",
       "\\item 0.484905413130443\n",
       "\\item 0.99569819908926\n",
       "\\item 0.118069829760643\n",
       "\\item 0.0890491958030971\n",
       "\\item 0.337346242166184\n",
       "\\item 0.186883537807939\n",
       "\\item 0.0336894090568585\n",
       "\\end{enumerate*}\n"
      ],
      "text/markdown": [
       "1. 0.92899520954835\n",
       "2. 0.274065755032839\n",
       "3. 0.0943868185594563\n",
       "4. 0.634821451888308\n",
       "5. 0.766527881199354\n",
       "6. 0.484905413130443\n",
       "7. 0.99569819908926\n",
       "8. 0.118069829760643\n",
       "9. 0.0890491958030971\n",
       "10. 0.337346242166184\n",
       "11. 0.186883537807939\n",
       "12. 0.0336894090568585\n",
       "\n",
       "\n"
      ],
      "text/plain": [
       " [1] 0.92899521 0.27406576 0.09438682 0.63482145 0.76652788 0.48490541\n",
       " [7] 0.99569820 0.11806983 0.08904920 0.33734624 0.18688354 0.03368941"
      ]
     },
     "metadata": {},
     "output_type": "display_data"
    }
   ],
   "source": [
    "xxx"
   ]
  },
  {
   "cell_type": "code",
   "execution_count": 20,
   "metadata": {},
   "outputs": [
    {
     "data": {
      "image/png": "[encoded data removed]",
      "text/plain": [
       "plot without title"
      ]
     },
     "metadata": {
      "image/png": {
       "height": 420,
       "width": 420
      },
      "text/plain": {
       "height": 420,
       "width": 420
      }
     },
     "output_type": "display_data"
    }
   ],
   "source": [
    "boxplot(pqr)"
   ]
  },
  {
   "cell_type": "code",
   "execution_count": 61,
   "metadata": {},
   "outputs": [
    {
     "data": {
      "text/html": [
       "1\n",
       "<details>\n",
       "\t<summary style=display:list-item;cursor:pointer>\n",
       "\t\t<strong>Levels</strong>:\n",
       "\t</summary>\n",
       "\t<style>\n",
       "\t.list-inline {list-style: none; margin:0; padding: 0}\n",
       "\t.list-inline>li {display: inline-block}\n",
       "\t.list-inline>li:not(:last-child)::after {content: \"\\00b7\"; padding: 0 .5ex}\n",
       "\t</style>\n",
       "\t<ol class=list-inline><li>'1'</li><li>'2'</li><li>'3'</li><li>'4'</li><li>'5'</li><li>'6'</li><li>'7'</li><li>'8'</li><li>'9'</li><li>'10'</li><li>'11'</li><li>'12'</li><li>'13'</li><li>'14'</li><li>'15'</li><li>'16'</li><li>'17'</li><li>'18'</li><li>'19'</li><li>'20'</li></ol>\n",
       "</details>"
      ],
      "text/latex": [
       "1\n",
       "\\emph{Levels}: \\begin{enumerate*}\n",
       "\\item '1'\n",
       "\\item '2'\n",
       "\\item '3'\n",
       "\\item '4'\n",
       "\\item '5'\n",
       "\\item '6'\n",
       "\\item '7'\n",
       "\\item '8'\n",
       "\\item '9'\n",
       "\\item '10'\n",
       "\\item '11'\n",
       "\\item '12'\n",
       "\\item '13'\n",
       "\\item '14'\n",
       "\\item '15'\n",
       "\\item '16'\n",
       "\\item '17'\n",
       "\\item '18'\n",
       "\\item '19'\n",
       "\\item '20'\n",
       "\\end{enumerate*}\n"
      ],
      "text/markdown": [
       "1\n",
       "**Levels**: 1. '1'\n",
       "2. '2'\n",
       "3. '3'\n",
       "4. '4'\n",
       "5. '5'\n",
       "6. '6'\n",
       "7. '7'\n",
       "8. '8'\n",
       "9. '9'\n",
       "10. '10'\n",
       "11. '11'\n",
       "12. '12'\n",
       "13. '13'\n",
       "14. '14'\n",
       "15. '15'\n",
       "16. '16'\n",
       "17. '17'\n",
       "18. '18'\n",
       "19. '19'\n",
       "20. '20'\n",
       "\n",
       "\n"
      ],
      "text/plain": [
       "[1] 1\n",
       "Levels: 1 2 3 4 5 6 7 8 9 10 11 12 13 14 15 16 17 18 19 20"
      ]
     },
     "metadata": {},
     "output_type": "display_data"
    }
   ],
   "source": [
    "#optimization starts\n",
    "\n",
    "fSOM[[2]][2]"
   ]
  },
  {
   "cell_type": "code",
   "execution_count": null,
   "metadata": {},
   "outputs": [],
   "source": [
    "xjx=20\n",
    "yyy<- fSOM[[2]]\n",
    "attributes(yyy)<- NULL\n",
    "for (i in c(1:xjx))\n",
    "    {assign(paste(\"yyy\", i, sep=\"\"), which(i == yyy))}\n",
    "vv<- c()\n",
    "for (x in c(1:xjx))\n",
    "    {yy<- paste(\"yyy\", x, sep=\"\")\n",
    "    vv= append(vv, yy)}\n",
    "\n",
    "\n",
    "\n",
    "\n",
    "\n",
    "\n",
    "\n",
    "\n",
    "\n",
    "\n",
    "\n",
    "\n",
    "\n",
    "kjn<- fSOM[[1]]$map$mapping[ ,1]\n",
    "meanofall<- c()\n",
    "for (jj in c(\"yyy1\", \"yyy2\", \"yyy3\", \"yyy4\", \"yyy5\", \"yyy6\", \"yyy7\", \"yyy8\", \"yyy9\", \"yyy10\"))\n",
    "    {newBBT4b<- c() \n",
    " for (k in get(jj))\n",
    "   {i<- 0\n",
    "    newBBT4<- c()\n",
    "    for (j in fSOM[[1]]$map$mapping[ ,1])\n",
    "     {i<- i+1\n",
    "     if (j==k)\n",
    "         {\n",
    "         newBBT4<- rbind(newBBT4, concatBBT[i, ])\n",
    "         else(next)}}\n",
    "   \n",
    "    \n",
    "    \n",
    "    \n",
    "    \n",
    "    \n",
    "    newBBT4a<- newBBT4\n",
    "   newBBT4<- data.matrix(newBBT4)\n",
    "   newBBT4b<- rbind(newBBT4b, newBBT4)\n",
    "    new<- c()\n",
    "    ik=0\n",
    "    for (ij in c(1:32))\n",
    "        {ik<- ik+1\n",
    "        kjk<- c()\n",
    "        kjk<- c((qq[ij-1]+1):qq[ij])\n",
    "        subset<- newBBT4b[rownames(newBBT4b) %in% kjk,]\n",
    "        assign(paste(\"mean\", ik, sep=\"\"), colMeans(subset))\n",
    "        new<- cbind(new, get(paste(\"mean\", ik, sep=\"\")))}\n",
    "        }\n",
    " meanofall<- rbind(meanofall, new)}\n",
    "\n"
   ]
  },
  {
   "cell_type": "code",
   "execution_count": 32,
   "metadata": {},
   "outputs": [],
   "source": [
    "kjn<- fSOM[[1]]$map$mapping[ ,1]"
   ]
  },
  {
   "cell_type": "code",
   "execution_count": 34,
   "metadata": {},
   "outputs": [
    {
     "data": {
      "text/html": [
       "1747180"
      ],
      "text/latex": [
       "1747180"
      ],
      "text/markdown": [
       "1747180"
      ],
      "text/plain": [
       "[1] 1747180"
      ]
     },
     "metadata": {},
     "output_type": "display_data"
    }
   ],
   "source": [
    "length(kjn)"
   ]
  },
  {
   "cell_type": "code",
   "execution_count": 248,
   "metadata": {},
   "outputs": [
    {
     "data": {
      "text/plain": [
       "   user  system elapsed \n",
       " 146.77   51.53  203.64 "
      ]
     },
     "metadata": {},
     "output_type": "display_data"
    }
   ],
   "source": [
    "#########\n",
    "ptm <- proc.time()\n",
    "patient_number=4\n",
    "cluster_number=20\n",
    "\n",
    "for (i in c(1:patient_number))\n",
    "    {for (j in c(1:cluster_number))\n",
    "       {assign(paste(\"patient_\", i, \"_cluster_\", j, sep=\"\"), c()\n",
    "              )\n",
    "    \n",
    "    \n",
    "    \n",
    "    \n",
    "      }}\n",
    "#data.frame(matrix(NA, nrow=3000, ncol= 24))\n",
    "\n",
    "####pateint\n",
    "for (ij in c(2:patient_number))\n",
    "    {for (jjjj in c(1:5000))\n",
    "          #c((qq[ij-1]+1):qq[ij]))\n",
    "         {cluster_number<- fSOM[[1]]$map$mapping[ ,1][jjjj]\n",
    "          metacluster_number<- yyy[cluster_number]\n",
    "          concat_value<- concatBBT[jjjj,]\n",
    "          assign(paste(\"patient_\", (ij-1), \"_cluster_\", metacluster_number,sep=\"\"),\n",
    "                rbind(get(eval(paste(\"patient_\", (ij-1), \"_cluster_\", metacluster_number, sep=\"\"))) , concat_value))\n",
    "        \n",
    "             }\n",
    "             }\n",
    "    \n",
    " proc.time() - ptm   \n",
    "    \n",
    "#rbind(get(eval(paste(\"patient_\", (ij-1), \"_cluster_\", metacluster_number, sep=\"\")))\n",
    " "
   ]
  },
  {
   "cell_type": "code",
   "execution_count": 220,
   "metadata": {},
   "outputs": [
    {
     "data": {
      "text/html": [
       "<table>\n",
       "<caption>A data.frame: 14 × 24</caption>\n",
       "<thead>\n",
       "\t<tr><th></th><th scope=col>V1</th><th scope=col>V2</th><th scope=col>V3</th><th scope=col>V4</th><th scope=col>V5</th><th scope=col>V6</th><th scope=col>V7</th><th scope=col>V8</th><th scope=col>V9</th><th scope=col>V10</th><th scope=col>...</th><th scope=col>V15</th><th scope=col>V16</th><th scope=col>V17</th><th scope=col>V18</th><th scope=col>V19</th><th scope=col>V20</th><th scope=col>V21</th><th scope=col>V22</th><th scope=col>V23</th><th scope=col>V24</th></tr>\n",
       "\t<tr><th></th><th scope=col>&lt;dbl&gt;</th><th scope=col>&lt;dbl&gt;</th><th scope=col>&lt;dbl&gt;</th><th scope=col>&lt;dbl&gt;</th><th scope=col>&lt;dbl&gt;</th><th scope=col>&lt;dbl&gt;</th><th scope=col>&lt;dbl&gt;</th><th scope=col>&lt;dbl&gt;</th><th scope=col>&lt;dbl&gt;</th><th scope=col>&lt;dbl&gt;</th><th scope=col>...</th><th scope=col>&lt;dbl&gt;</th><th scope=col>&lt;dbl&gt;</th><th scope=col>&lt;dbl&gt;</th><th scope=col>&lt;dbl&gt;</th><th scope=col>&lt;dbl&gt;</th><th scope=col>&lt;dbl&gt;</th><th scope=col>&lt;dbl&gt;</th><th scope=col>&lt;dbl&gt;</th><th scope=col>&lt;dbl&gt;</th><th scope=col>&lt;dbl&gt;</th></tr>\n",
       "</thead>\n",
       "<tbody>\n",
       "\t<tr><th scope=row>10</th><td>3.477943</td><td>5.106642</td><td>1.1826421</td><td>1.749286</td><td>2.693923</td><td>0.7766737</td><td>0.1879906</td><td>1.648187</td><td>0.4132371</td><td>4.185558</td><td>...</td><td>3.893815</td><td>5.324560</td><td>2.991380</td><td>3.915881</td><td>5.595366</td><td>5.001265</td><td>5.559353</td><td>5.729209</td><td>2.960721</td><td>3.821425</td></tr>\n",
       "\t<tr><th scope=row>14</th><td>3.359531</td><td>5.001123</td><td>0.8422086</td><td>1.344177</td><td>2.882128</td><td>0.4318391</td><td>0.1220760</td><td>1.512389</td><td>0.3710987</td><td>3.800086</td><td>...</td><td>3.603228</td><td>5.341294</td><td>2.756925</td><td>3.696029</td><td>5.531991</td><td>5.356777</td><td>5.108297</td><td>5.794243</td><td>2.827372</td><td>3.584482</td></tr>\n",
       "\t<tr><th scope=row>20</th><td>4.098531</td><td>5.172936</td><td>1.5200437</td><td>2.398182</td><td>3.335071</td><td>0.4318391</td><td>0.1069501</td><td>1.836509</td><td>0.6973860</td><td>4.320196</td><td>...</td><td>3.842741</td><td>5.545618</td><td>3.865310</td><td>4.021850</td><td>5.238543</td><td>5.356765</td><td>5.703651</td><td>6.089982</td><td>4.067121</td><td>3.307360</td></tr>\n",
       "\t<tr><th scope=row>24</th><td>2.886362</td><td>5.024267</td><td>1.5203763</td><td>1.344177</td><td>2.906241</td><td>0.4318391</td><td>0.1069501</td><td>1.618133</td><td>0.3332127</td><td>4.029493</td><td>...</td><td>3.057466</td><td>5.388547</td><td>2.705370</td><td>3.931634</td><td>5.496542</td><td>5.319488</td><td>5.184933</td><td>5.756255</td><td>3.748328</td><td>3.249299</td></tr>\n",
       "\t<tr><th scope=row>29</th><td>3.933624</td><td>5.149140</td><td>1.5752228</td><td>2.337130</td><td>3.474056</td><td>0.6429045</td><td>0.2042219</td><td>1.824938</td><td>0.6606528</td><td>4.172865</td><td>...</td><td>3.428676</td><td>5.666797</td><td>3.734106</td><td>3.420805</td><td>5.464787</td><td>5.131261</td><td>5.237466</td><td>6.000836</td><td>3.294391</td><td>3.228499</td></tr>\n",
       "\t<tr><th scope=row>31</th><td>3.143183</td><td>5.053394</td><td>1.2935894</td><td>1.344177</td><td>2.173801</td><td>0.4805483</td><td>0.1069501</td><td>1.431195</td><td>0.2156489</td><td>3.788628</td><td>...</td><td>3.055145</td><td>5.450116</td><td>3.104459</td><td>3.388880</td><td>5.328221</td><td>4.319571</td><td>4.567395</td><td>5.733079</td><td>3.551562</td><td>3.500628</td></tr>\n",
       "\t<tr><th scope=row>32</th><td>3.140736</td><td>5.015865</td><td>0.9818745</td><td>1.344177</td><td>3.126219</td><td>0.4318391</td><td>0.1900773</td><td>1.673276</td><td>0.8980809</td><td>4.082032</td><td>...</td><td>3.775538</td><td>5.511149</td><td>3.494180</td><td>3.101947</td><td>5.197415</td><td>5.416387</td><td>5.442097</td><td>5.921499</td><td>3.045548</td><td>3.251998</td></tr>\n",
       "\t<tr><th scope=row>37</th><td>3.630411</td><td>5.062953</td><td>1.0650574</td><td>1.344177</td><td>2.433365</td><td>0.7068382</td><td>0.1523370</td><td>1.481939</td><td>0.2156489</td><td>3.748442</td><td>...</td><td>3.738194</td><td>5.002057</td><td>3.557534</td><td>3.284283</td><td>5.484997</td><td>5.403992</td><td>5.144288</td><td>5.953639</td><td>3.958054</td><td>3.983964</td></tr>\n",
       "\t<tr><th scope=row>39</th><td>3.277922</td><td>5.095795</td><td>1.3711763</td><td>1.928767</td><td>2.706283</td><td>0.5493210</td><td>0.1069501</td><td>1.764587</td><td>0.4710561</td><td>4.253716</td><td>...</td><td>3.724373</td><td>5.612601</td><td>3.745507</td><td>3.815008</td><td>5.417080</td><td>5.590938</td><td>5.722031</td><td>6.164426</td><td>4.314529</td><td>3.550594</td></tr>\n",
       "\t<tr><th scope=row>42</th><td>2.507945</td><td>5.058500</td><td>1.5253454</td><td>1.633716</td><td>3.253071</td><td>1.2048974</td><td>0.1833544</td><td>1.517131</td><td>0.4935801</td><td>4.219042</td><td>...</td><td>3.843092</td><td>5.573395</td><td>3.334786</td><td>3.940789</td><td>5.582821</td><td>5.400984</td><td>5.382845</td><td>5.893526</td><td>4.068193</td><td>2.954794</td></tr>\n",
       "\t<tr><th scope=row>43</th><td>4.056203</td><td>5.083419</td><td>1.0520603</td><td>1.791062</td><td>2.835354</td><td>0.4318391</td><td>0.1112280</td><td>1.309551</td><td>0.2156489</td><td>4.053232</td><td>...</td><td>3.612227</td><td>5.169326</td><td>3.007161</td><td>3.852399</td><td>4.872243</td><td>3.717039</td><td>5.564441</td><td>5.689984</td><td>3.248228</td><td>3.638991</td></tr>\n",
       "\t<tr><th scope=row>44</th><td>3.682639</td><td>5.097010</td><td>1.4183648</td><td>1.485510</td><td>3.048889</td><td>0.4658486</td><td>0.1204602</td><td>1.593094</td><td>0.3213515</td><td>3.904851</td><td>...</td><td>3.867401</td><td>4.213430</td><td>3.081618</td><td>4.148266</td><td>5.169199</td><td>4.138700</td><td>4.371053</td><td>5.692628</td><td>3.815598</td><td>3.376884</td></tr>\n",
       "\t<tr><th scope=row>45</th><td>3.413323</td><td>5.083659</td><td>1.5387143</td><td>1.971939</td><td>3.497187</td><td>0.9600103</td><td>0.1069501</td><td>1.627195</td><td>0.3672983</td><td>4.006070</td><td>...</td><td>2.955694</td><td>5.278546</td><td>3.182183</td><td>3.295372</td><td>5.470309</td><td>5.216949</td><td>5.055234</td><td>5.834798</td><td>3.198875</td><td>3.321795</td></tr>\n",
       "\t<tr><th scope=row>49</th><td>3.485218</td><td>5.116156</td><td>1.4093747</td><td>1.542331</td><td>3.176025</td><td>0.9377636</td><td>0.1069501</td><td>1.704630</td><td>0.3090506</td><td>4.323722</td><td>...</td><td>3.618028</td><td>5.134801</td><td>3.485585</td><td>3.539159</td><td>5.464994</td><td>5.443405</td><td>5.765897</td><td>5.866510</td><td>3.959112</td><td>3.843254</td></tr>\n",
       "</tbody>\n",
       "</table>\n"
      ],
      "text/latex": [
       "A data.frame: 14 × 24\n",
       "\\begin{tabular}{r|lllllllllllllllllllll}\n",
       "  & V1 & V2 & V3 & V4 & V5 & V6 & V7 & V8 & V9 & V10 & ... & V15 & V16 & V17 & V18 & V19 & V20 & V21 & V22 & V23 & V24\\\\\n",
       "  & <dbl> & <dbl> & <dbl> & <dbl> & <dbl> & <dbl> & <dbl> & <dbl> & <dbl> & <dbl> & ... & <dbl> & <dbl> & <dbl> & <dbl> & <dbl> & <dbl> & <dbl> & <dbl> & <dbl> & <dbl>\\\\\n",
       "\\hline\n",
       "\t10 & 3.477943 & 5.106642 & 1.1826421 & 1.749286 & 2.693923 & 0.7766737 & 0.1879906 & 1.648187 & 0.4132371 & 4.185558 & ... & 3.893815 & 5.324560 & 2.991380 & 3.915881 & 5.595366 & 5.001265 & 5.559353 & 5.729209 & 2.960721 & 3.821425\\\\\n",
       "\t14 & 3.359531 & 5.001123 & 0.8422086 & 1.344177 & 2.882128 & 0.4318391 & 0.1220760 & 1.512389 & 0.3710987 & 3.800086 & ... & 3.603228 & 5.341294 & 2.756925 & 3.696029 & 5.531991 & 5.356777 & 5.108297 & 5.794243 & 2.827372 & 3.584482\\\\\n",
       "\t20 & 4.098531 & 5.172936 & 1.5200437 & 2.398182 & 3.335071 & 0.4318391 & 0.1069501 & 1.836509 & 0.6973860 & 4.320196 & ... & 3.842741 & 5.545618 & 3.865310 & 4.021850 & 5.238543 & 5.356765 & 5.703651 & 6.089982 & 4.067121 & 3.307360\\\\\n",
       "\t24 & 2.886362 & 5.024267 & 1.5203763 & 1.344177 & 2.906241 & 0.4318391 & 0.1069501 & 1.618133 & 0.3332127 & 4.029493 & ... & 3.057466 & 5.388547 & 2.705370 & 3.931634 & 5.496542 & 5.319488 & 5.184933 & 5.756255 & 3.748328 & 3.249299\\\\\n",
       "\t29 & 3.933624 & 5.149140 & 1.5752228 & 2.337130 & 3.474056 & 0.6429045 & 0.2042219 & 1.824938 & 0.6606528 & 4.172865 & ... & 3.428676 & 5.666797 & 3.734106 & 3.420805 & 5.464787 & 5.131261 & 5.237466 & 6.000836 & 3.294391 & 3.228499\\\\\n",
       "\t31 & 3.143183 & 5.053394 & 1.2935894 & 1.344177 & 2.173801 & 0.4805483 & 0.1069501 & 1.431195 & 0.2156489 & 3.788628 & ... & 3.055145 & 5.450116 & 3.104459 & 3.388880 & 5.328221 & 4.319571 & 4.567395 & 5.733079 & 3.551562 & 3.500628\\\\\n",
       "\t32 & 3.140736 & 5.015865 & 0.9818745 & 1.344177 & 3.126219 & 0.4318391 & 0.1900773 & 1.673276 & 0.8980809 & 4.082032 & ... & 3.775538 & 5.511149 & 3.494180 & 3.101947 & 5.197415 & 5.416387 & 5.442097 & 5.921499 & 3.045548 & 3.251998\\\\\n",
       "\t37 & 3.630411 & 5.062953 & 1.0650574 & 1.344177 & 2.433365 & 0.7068382 & 0.1523370 & 1.481939 & 0.2156489 & 3.748442 & ... & 3.738194 & 5.002057 & 3.557534 & 3.284283 & 5.484997 & 5.403992 & 5.144288 & 5.953639 & 3.958054 & 3.983964\\\\\n",
       "\t39 & 3.277922 & 5.095795 & 1.3711763 & 1.928767 & 2.706283 & 0.5493210 & 0.1069501 & 1.764587 & 0.4710561 & 4.253716 & ... & 3.724373 & 5.612601 & 3.745507 & 3.815008 & 5.417080 & 5.590938 & 5.722031 & 6.164426 & 4.314529 & 3.550594\\\\\n",
       "\t42 & 2.507945 & 5.058500 & 1.5253454 & 1.633716 & 3.253071 & 1.2048974 & 0.1833544 & 1.517131 & 0.4935801 & 4.219042 & ... & 3.843092 & 5.573395 & 3.334786 & 3.940789 & 5.582821 & 5.400984 & 5.382845 & 5.893526 & 4.068193 & 2.954794\\\\\n",
       "\t43 & 4.056203 & 5.083419 & 1.0520603 & 1.791062 & 2.835354 & 0.4318391 & 0.1112280 & 1.309551 & 0.2156489 & 4.053232 & ... & 3.612227 & 5.169326 & 3.007161 & 3.852399 & 4.872243 & 3.717039 & 5.564441 & 5.689984 & 3.248228 & 3.638991\\\\\n",
       "\t44 & 3.682639 & 5.097010 & 1.4183648 & 1.485510 & 3.048889 & 0.4658486 & 0.1204602 & 1.593094 & 0.3213515 & 3.904851 & ... & 3.867401 & 4.213430 & 3.081618 & 4.148266 & 5.169199 & 4.138700 & 4.371053 & 5.692628 & 3.815598 & 3.376884\\\\\n",
       "\t45 & 3.413323 & 5.083659 & 1.5387143 & 1.971939 & 3.497187 & 0.9600103 & 0.1069501 & 1.627195 & 0.3672983 & 4.006070 & ... & 2.955694 & 5.278546 & 3.182183 & 3.295372 & 5.470309 & 5.216949 & 5.055234 & 5.834798 & 3.198875 & 3.321795\\\\\n",
       "\t49 & 3.485218 & 5.116156 & 1.4093747 & 1.542331 & 3.176025 & 0.9377636 & 0.1069501 & 1.704630 & 0.3090506 & 4.323722 & ... & 3.618028 & 5.134801 & 3.485585 & 3.539159 & 5.464994 & 5.443405 & 5.765897 & 5.866510 & 3.959112 & 3.843254\\\\\n",
       "\\end{tabular}\n"
      ],
      "text/markdown": [
       "\n",
       "A data.frame: 14 × 24\n",
       "\n",
       "| <!--/--> | V1 &lt;dbl&gt; | V2 &lt;dbl&gt; | V3 &lt;dbl&gt; | V4 &lt;dbl&gt; | V5 &lt;dbl&gt; | V6 &lt;dbl&gt; | V7 &lt;dbl&gt; | V8 &lt;dbl&gt; | V9 &lt;dbl&gt; | V10 &lt;dbl&gt; | ... ... | V15 &lt;dbl&gt; | V16 &lt;dbl&gt; | V17 &lt;dbl&gt; | V18 &lt;dbl&gt; | V19 &lt;dbl&gt; | V20 &lt;dbl&gt; | V21 &lt;dbl&gt; | V22 &lt;dbl&gt; | V23 &lt;dbl&gt; | V24 &lt;dbl&gt; |\n",
       "|---|---|---|---|---|---|---|---|---|---|---|---|---|---|---|---|---|---|---|---|---|---|\n",
       "| 10 | 3.477943 | 5.106642 | 1.1826421 | 1.749286 | 2.693923 | 0.7766737 | 0.1879906 | 1.648187 | 0.4132371 | 4.185558 | ... | 3.893815 | 5.324560 | 2.991380 | 3.915881 | 5.595366 | 5.001265 | 5.559353 | 5.729209 | 2.960721 | 3.821425 |\n",
       "| 14 | 3.359531 | 5.001123 | 0.8422086 | 1.344177 | 2.882128 | 0.4318391 | 0.1220760 | 1.512389 | 0.3710987 | 3.800086 | ... | 3.603228 | 5.341294 | 2.756925 | 3.696029 | 5.531991 | 5.356777 | 5.108297 | 5.794243 | 2.827372 | 3.584482 |\n",
       "| 20 | 4.098531 | 5.172936 | 1.5200437 | 2.398182 | 3.335071 | 0.4318391 | 0.1069501 | 1.836509 | 0.6973860 | 4.320196 | ... | 3.842741 | 5.545618 | 3.865310 | 4.021850 | 5.238543 | 5.356765 | 5.703651 | 6.089982 | 4.067121 | 3.307360 |\n",
       "| 24 | 2.886362 | 5.024267 | 1.5203763 | 1.344177 | 2.906241 | 0.4318391 | 0.1069501 | 1.618133 | 0.3332127 | 4.029493 | ... | 3.057466 | 5.388547 | 2.705370 | 3.931634 | 5.496542 | 5.319488 | 5.184933 | 5.756255 | 3.748328 | 3.249299 |\n",
       "| 29 | 3.933624 | 5.149140 | 1.5752228 | 2.337130 | 3.474056 | 0.6429045 | 0.2042219 | 1.824938 | 0.6606528 | 4.172865 | ... | 3.428676 | 5.666797 | 3.734106 | 3.420805 | 5.464787 | 5.131261 | 5.237466 | 6.000836 | 3.294391 | 3.228499 |\n",
       "| 31 | 3.143183 | 5.053394 | 1.2935894 | 1.344177 | 2.173801 | 0.4805483 | 0.1069501 | 1.431195 | 0.2156489 | 3.788628 | ... | 3.055145 | 5.450116 | 3.104459 | 3.388880 | 5.328221 | 4.319571 | 4.567395 | 5.733079 | 3.551562 | 3.500628 |\n",
       "| 32 | 3.140736 | 5.015865 | 0.9818745 | 1.344177 | 3.126219 | 0.4318391 | 0.1900773 | 1.673276 | 0.8980809 | 4.082032 | ... | 3.775538 | 5.511149 | 3.494180 | 3.101947 | 5.197415 | 5.416387 | 5.442097 | 5.921499 | 3.045548 | 3.251998 |\n",
       "| 37 | 3.630411 | 5.062953 | 1.0650574 | 1.344177 | 2.433365 | 0.7068382 | 0.1523370 | 1.481939 | 0.2156489 | 3.748442 | ... | 3.738194 | 5.002057 | 3.557534 | 3.284283 | 5.484997 | 5.403992 | 5.144288 | 5.953639 | 3.958054 | 3.983964 |\n",
       "| 39 | 3.277922 | 5.095795 | 1.3711763 | 1.928767 | 2.706283 | 0.5493210 | 0.1069501 | 1.764587 | 0.4710561 | 4.253716 | ... | 3.724373 | 5.612601 | 3.745507 | 3.815008 | 5.417080 | 5.590938 | 5.722031 | 6.164426 | 4.314529 | 3.550594 |\n",
       "| 42 | 2.507945 | 5.058500 | 1.5253454 | 1.633716 | 3.253071 | 1.2048974 | 0.1833544 | 1.517131 | 0.4935801 | 4.219042 | ... | 3.843092 | 5.573395 | 3.334786 | 3.940789 | 5.582821 | 5.400984 | 5.382845 | 5.893526 | 4.068193 | 2.954794 |\n",
       "| 43 | 4.056203 | 5.083419 | 1.0520603 | 1.791062 | 2.835354 | 0.4318391 | 0.1112280 | 1.309551 | 0.2156489 | 4.053232 | ... | 3.612227 | 5.169326 | 3.007161 | 3.852399 | 4.872243 | 3.717039 | 5.564441 | 5.689984 | 3.248228 | 3.638991 |\n",
       "| 44 | 3.682639 | 5.097010 | 1.4183648 | 1.485510 | 3.048889 | 0.4658486 | 0.1204602 | 1.593094 | 0.3213515 | 3.904851 | ... | 3.867401 | 4.213430 | 3.081618 | 4.148266 | 5.169199 | 4.138700 | 4.371053 | 5.692628 | 3.815598 | 3.376884 |\n",
       "| 45 | 3.413323 | 5.083659 | 1.5387143 | 1.971939 | 3.497187 | 0.9600103 | 0.1069501 | 1.627195 | 0.3672983 | 4.006070 | ... | 2.955694 | 5.278546 | 3.182183 | 3.295372 | 5.470309 | 5.216949 | 5.055234 | 5.834798 | 3.198875 | 3.321795 |\n",
       "| 49 | 3.485218 | 5.116156 | 1.4093747 | 1.542331 | 3.176025 | 0.9377636 | 0.1069501 | 1.704630 | 0.3090506 | 4.323722 | ... | 3.618028 | 5.134801 | 3.485585 | 3.539159 | 5.464994 | 5.443405 | 5.765897 | 5.866510 | 3.959112 | 3.843254 |\n",
       "\n"
      ],
      "text/plain": [
       "   V1       V2       V3        V4       V5       V6        V7        V8      \n",
       "10 3.477943 5.106642 1.1826421 1.749286 2.693923 0.7766737 0.1879906 1.648187\n",
       "14 3.359531 5.001123 0.8422086 1.344177 2.882128 0.4318391 0.1220760 1.512389\n",
       "20 4.098531 5.172936 1.5200437 2.398182 3.335071 0.4318391 0.1069501 1.836509\n",
       "24 2.886362 5.024267 1.5203763 1.344177 2.906241 0.4318391 0.1069501 1.618133\n",
       "29 3.933624 5.149140 1.5752228 2.337130 3.474056 0.6429045 0.2042219 1.824938\n",
       "31 3.143183 5.053394 1.2935894 1.344177 2.173801 0.4805483 0.1069501 1.431195\n",
       "32 3.140736 5.015865 0.9818745 1.344177 3.126219 0.4318391 0.1900773 1.673276\n",
       "37 3.630411 5.062953 1.0650574 1.344177 2.433365 0.7068382 0.1523370 1.481939\n",
       "39 3.277922 5.095795 1.3711763 1.928767 2.706283 0.5493210 0.1069501 1.764587\n",
       "42 2.507945 5.058500 1.5253454 1.633716 3.253071 1.2048974 0.1833544 1.517131\n",
       "43 4.056203 5.083419 1.0520603 1.791062 2.835354 0.4318391 0.1112280 1.309551\n",
       "44 3.682639 5.097010 1.4183648 1.485510 3.048889 0.4658486 0.1204602 1.593094\n",
       "45 3.413323 5.083659 1.5387143 1.971939 3.497187 0.9600103 0.1069501 1.627195\n",
       "49 3.485218 5.116156 1.4093747 1.542331 3.176025 0.9377636 0.1069501 1.704630\n",
       "   V9        V10      ... V15      V16      V17      V18      V19      V20     \n",
       "10 0.4132371 4.185558 ... 3.893815 5.324560 2.991380 3.915881 5.595366 5.001265\n",
       "14 0.3710987 3.800086 ... 3.603228 5.341294 2.756925 3.696029 5.531991 5.356777\n",
       "20 0.6973860 4.320196 ... 3.842741 5.545618 3.865310 4.021850 5.238543 5.356765\n",
       "24 0.3332127 4.029493 ... 3.057466 5.388547 2.705370 3.931634 5.496542 5.319488\n",
       "29 0.6606528 4.172865 ... 3.428676 5.666797 3.734106 3.420805 5.464787 5.131261\n",
       "31 0.2156489 3.788628 ... 3.055145 5.450116 3.104459 3.388880 5.328221 4.319571\n",
       "32 0.8980809 4.082032 ... 3.775538 5.511149 3.494180 3.101947 5.197415 5.416387\n",
       "37 0.2156489 3.748442 ... 3.738194 5.002057 3.557534 3.284283 5.484997 5.403992\n",
       "39 0.4710561 4.253716 ... 3.724373 5.612601 3.745507 3.815008 5.417080 5.590938\n",
       "42 0.4935801 4.219042 ... 3.843092 5.573395 3.334786 3.940789 5.582821 5.400984\n",
       "43 0.2156489 4.053232 ... 3.612227 5.169326 3.007161 3.852399 4.872243 3.717039\n",
       "44 0.3213515 3.904851 ... 3.867401 4.213430 3.081618 4.148266 5.169199 4.138700\n",
       "45 0.3672983 4.006070 ... 2.955694 5.278546 3.182183 3.295372 5.470309 5.216949\n",
       "49 0.3090506 4.323722 ... 3.618028 5.134801 3.485585 3.539159 5.464994 5.443405\n",
       "   V21      V22      V23      V24     \n",
       "10 5.559353 5.729209 2.960721 3.821425\n",
       "14 5.108297 5.794243 2.827372 3.584482\n",
       "20 5.703651 6.089982 4.067121 3.307360\n",
       "24 5.184933 5.756255 3.748328 3.249299\n",
       "29 5.237466 6.000836 3.294391 3.228499\n",
       "31 4.567395 5.733079 3.551562 3.500628\n",
       "32 5.442097 5.921499 3.045548 3.251998\n",
       "37 5.144288 5.953639 3.958054 3.983964\n",
       "39 5.722031 6.164426 4.314529 3.550594\n",
       "42 5.382845 5.893526 4.068193 2.954794\n",
       "43 5.564441 5.689984 3.248228 3.638991\n",
       "44 4.371053 5.692628 3.815598 3.376884\n",
       "45 5.055234 5.834798 3.198875 3.321795\n",
       "49 5.765897 5.866510 3.959112 3.843254"
      ]
     },
     "metadata": {},
     "output_type": "display_data"
    }
   ],
   "source": [
    "patient_2_cluster_20"
   ]
  },
  {
   "cell_type": "code",
   "execution_count": null,
   "metadata": {},
   "outputs": [],
   "source": [
    "#optimzation ends"
   ]
  },
  {
   "cell_type": "code",
   "execution_count": null,
   "metadata": {},
   "outputs": [],
   "source": []
  },
  {
   "cell_type": "code",
   "execution_count": null,
   "metadata": {},
   "outputs": [],
   "source": []
  },
  {
   "cell_type": "code",
   "execution_count": null,
   "metadata": {},
   "outputs": [],
   "source": []
  },
  {
   "cell_type": "code",
   "execution_count": null,
   "metadata": {},
   "outputs": [],
   "source": []
  },
  {
   "cell_type": "code",
   "execution_count": 25,
   "metadata": {},
   "outputs": [
    {
     "ename": "ERROR",
     "evalue": "Error: cannot allocate vector of size 525 Kb\n",
     "output_type": "error",
     "traceback": [
      "Error: cannot allocate vector of size 525 Kb\nTraceback:\n",
      "1. assign(paste(\"patient_\", (ij - 1), \"_cluster_\", metacluster_number, \n .     sep = \"\"), `[<-`(get(paste(\"patient_\", (ij - 1), \"_cluster_\", \n .     metacluster_number, sep = \"\")), jjjj, i, concat_value[, i]))",
      "2. assign(paste(\"patient_\", (ij - 1), \"_cluster_\", metacluster_number, \n .     sep = \"\"), `[<-`(get(paste(\"patient_\", (ij - 1), \"_cluster_\", \n .     metacluster_number, sep = \"\")), jjjj, i, concat_value[, i]))",
      "3. `[<-`(get(paste(\"patient_\", (ij - 1), \"_cluster_\", metacluster_number, \n .     sep = \"\")), jjjj, i, concat_value[, i])",
      "4. `[<-.data.frame`(get(paste(\"patient_\", (ij - 1), \"_cluster_\", \n .     metacluster_number, sep = \"\")), jjjj, i, concat_value[, i])"
     ]
    }
   ],
   "source": [
    "#####fast_one\n",
    "\n",
    "ptm <- proc.time()\n",
    "patient_number=32\n",
    "cluster_number=12\n",
    "\n",
    "for (i in c(1:patient_number))\n",
    "    {for (j in c(1:cluster_number))\n",
    "       {assign(paste(\"patient_\", i, \"_cluster_\", j, sep=\"\"), data.frame(matrix(NA, nrow=20000, ncol= 24))\n",
    "\n",
    "              )\n",
    "    \n",
    "    \n",
    "    \n",
    "    \n",
    "      }}\n",
    "#data.frame(matrix(NA, nrow=3000, ncol= 24))\n",
    "\n",
    "####pateint\n",
    "#pateint_number+1\n",
    "for (ij in c(2:(patient_number+1)))\n",
    "    {for (jjjj in c((qq[ij-1]+1):qq[ij]))\n",
    "         {cluster_number<- fSOM[[1]]$map$mapping[ ,1][jjjj]\n",
    "          metacluster_number<- yyy[cluster_number]\n",
    "          concat_value<- concatBBT[jjjj,]\n",
    "          for (i in c(1:24))\n",
    "\n",
    "                        {assign(paste(\"patient_\", (ij-1), \"_cluster_\", metacluster_number,sep=\"\"),\n",
    "                `[<-`(get(paste(\"patient_\", (ij-1), \"_cluster_\", metacluster_number,sep=\"\")), jjjj, i, concat_value[ ,i]))}\n",
    "             }\n",
    "             }\n",
    "proc.time() - ptm \n",
    "    \n"
   ]
  },
  {
   "cell_type": "code",
   "execution_count": null,
   "metadata": {},
   "outputs": [],
   "source": []
  },
  {
   "cell_type": "code",
   "execution_count": null,
   "metadata": {},
   "outputs": [],
   "source": []
  },
  {
   "cell_type": "code",
   "execution_count": null,
   "metadata": {},
   "outputs": [],
   "source": []
  },
  {
   "cell_type": "code",
   "execution_count": null,
   "metadata": {},
   "outputs": [],
   "source": []
  },
  {
   "cell_type": "code",
   "execution_count": null,
   "metadata": {},
   "outputs": [],
   "source": []
  },
  {
   "cell_type": "code",
   "execution_count": null,
   "metadata": {},
   "outputs": [],
   "source": [
    "patient_1_cluster_20<- patient_1_cluster_20[complete.cases(patient_1_cluster_20), ]\n",
    "dim(patient_1_cluster_20)"
   ]
  },
  {
   "cell_type": "code",
   "execution_count": null,
   "metadata": {},
   "outputs": [],
   "source": []
  },
  {
   "cell_type": "code",
   "execution_count": null,
   "metadata": {},
   "outputs": [],
   "source": []
  },
  {
   "cell_type": "code",
   "execution_count": null,
   "metadata": {},
   "outputs": [],
   "source": [
    "#####fast_one\n",
    "\n",
    "ptm <- proc.time()\n",
    "patient_number=1\n",
    "cluster_number=20\n",
    "\n",
    "for (i in c(1:patient_number))\n",
    "    {for (j in c(1:cluster_number))\n",
    "       {assign(paste(\"patient_\", i, \"_cluster_\", j, sep=\"\"), data.frame(matrix(NA, nrow=5000, ncol= 24))\n",
    "\n",
    "              )\n",
    "    \n",
    "    \n",
    "    \n",
    "    \n",
    "      }}\n",
    "#data.frame(matrix(NA, nrow=3000, ncol= 24))\n",
    "\n",
    "####pateint\n",
    "#pateint_number+1\n",
    "for (ij in c(2:(patient_number+1)))\n",
    "    {for (jjjj in c(1:5000))\n",
    "          #c((qq[ij-1]+1):qq[ij]))\n",
    "         {cluster_number<- fSOM[[1]]$map$mapping[ ,1][jjjj]\n",
    "          metacluster_number<- yyy[cluster_number]\n",
    "          concat_value<- concatBBT[jjjj,]\n",
    "          for (i in c(1:24))\n",
    "\n",
    "                        {assign(paste(\"patient_\", (ij-1), \"_cluster_\", metacluster_number,sep=\"\"),\n",
    "                `[<-`(get(paste(\"patient_\", (ij-1), \"_cluster_\", metacluster_number,sep=\"\")), jjjj, i, concat_value[ ,i]))}\n",
    "             }\n",
    "             }\n",
    "proc.time() - ptm "
   ]
  },
  {
   "cell_type": "code",
   "execution_count": null,
   "metadata": {},
   "outputs": [],
   "source": []
  },
  {
   "cell_type": "code",
   "execution_count": null,
   "metadata": {},
   "outputs": [],
   "source": []
  },
  {
   "cell_type": "code",
   "execution_count": null,
   "metadata": {},
   "outputs": [],
   "source": []
  },
  {
   "cell_type": "code",
   "execution_count": null,
   "metadata": {},
   "outputs": [],
   "source": []
  },
  {
   "cell_type": "code",
   "execution_count": null,
   "metadata": {},
   "outputs": [],
   "source": []
  },
  {
   "cell_type": "code",
   "execution_count": 244,
   "metadata": {},
   "outputs": [
    {
     "data": {
      "text/html": [
       "<style>\n",
       ".list-inline {list-style: none; margin:0; padding: 0}\n",
       ".list-inline>li {display: inline-block}\n",
       ".list-inline>li:not(:last-child)::after {content: \"\\00b7\"; padding: 0 .5ex}\n",
       "</style>\n",
       "<ol class=list-inline><li>3449</li><li>24</li></ol>\n"
      ],
      "text/latex": [
       "\\begin{enumerate*}\n",
       "\\item 3449\n",
       "\\item 24\n",
       "\\end{enumerate*}\n"
      ],
      "text/markdown": [
       "1. 3449\n",
       "2. 24\n",
       "\n",
       "\n"
      ],
      "text/plain": [
       "[1] 3449   24"
      ]
     },
     "metadata": {},
     "output_type": "display_data"
    }
   ],
   "source": [
    "patient_1_cluster_20<- patient_1_cluster_20[complete.cases(patient_1_cluster_20), ]\n",
    "dim(patient_1_cluster_20)"
   ]
  },
  {
   "cell_type": "code",
   "execution_count": 245,
   "metadata": {},
   "outputs": [
    {
     "data": {
      "text/plain": [
       "     user    system   elapsed \n",
       "  5168.81   1592.21 174623.42 "
      ]
     },
     "metadata": {},
     "output_type": "display_data"
    }
   ],
   "source": [
    "proc.time()"
   ]
  },
  {
   "cell_type": "code",
   "execution_count": 240,
   "metadata": {},
   "outputs": [
    {
     "data": {
      "text/html": [
       "<table>\n",
       "<caption>A data.frame: 14 × 24</caption>\n",
       "<thead>\n",
       "\t<tr><th></th><th scope=col>X1</th><th scope=col>X2</th><th scope=col>X3</th><th scope=col>X4</th><th scope=col>X5</th><th scope=col>X6</th><th scope=col>X7</th><th scope=col>X8</th><th scope=col>X9</th><th scope=col>X10</th><th scope=col>...</th><th scope=col>X15</th><th scope=col>X16</th><th scope=col>X17</th><th scope=col>X18</th><th scope=col>X19</th><th scope=col>X20</th><th scope=col>X21</th><th scope=col>X22</th><th scope=col>X23</th><th scope=col>X24</th></tr>\n",
       "\t<tr><th></th><th scope=col>&lt;dbl&gt;</th><th scope=col>&lt;dbl&gt;</th><th scope=col>&lt;dbl&gt;</th><th scope=col>&lt;dbl&gt;</th><th scope=col>&lt;dbl&gt;</th><th scope=col>&lt;dbl&gt;</th><th scope=col>&lt;dbl&gt;</th><th scope=col>&lt;dbl&gt;</th><th scope=col>&lt;dbl&gt;</th><th scope=col>&lt;dbl&gt;</th><th scope=col>...</th><th scope=col>&lt;dbl&gt;</th><th scope=col>&lt;dbl&gt;</th><th scope=col>&lt;dbl&gt;</th><th scope=col>&lt;dbl&gt;</th><th scope=col>&lt;dbl&gt;</th><th scope=col>&lt;dbl&gt;</th><th scope=col>&lt;dbl&gt;</th><th scope=col>&lt;dbl&gt;</th><th scope=col>&lt;dbl&gt;</th><th scope=col>&lt;dbl&gt;</th></tr>\n",
       "</thead>\n",
       "<tbody>\n",
       "\t<tr><th scope=row>10</th><td>3.477943</td><td>5.106642</td><td>1.1826421</td><td>1.749286</td><td>2.693923</td><td>0.7766737</td><td>0.1879906</td><td>1.648187</td><td>0.4132371</td><td>4.185558</td><td>...</td><td>3.893815</td><td>5.324560</td><td>2.991380</td><td>3.915881</td><td>5.595366</td><td>5.001265</td><td>5.559353</td><td>5.729209</td><td>2.960721</td><td>3.821425</td></tr>\n",
       "\t<tr><th scope=row>14</th><td>3.359531</td><td>5.001123</td><td>0.8422086</td><td>1.344177</td><td>2.882128</td><td>0.4318391</td><td>0.1220760</td><td>1.512389</td><td>0.3710987</td><td>3.800086</td><td>...</td><td>3.603228</td><td>5.341294</td><td>2.756925</td><td>3.696029</td><td>5.531991</td><td>5.356777</td><td>5.108297</td><td>5.794243</td><td>2.827372</td><td>3.584482</td></tr>\n",
       "\t<tr><th scope=row>20</th><td>4.098531</td><td>5.172936</td><td>1.5200437</td><td>2.398182</td><td>3.335071</td><td>0.4318391</td><td>0.1069501</td><td>1.836509</td><td>0.6973860</td><td>4.320196</td><td>...</td><td>3.842741</td><td>5.545618</td><td>3.865310</td><td>4.021850</td><td>5.238543</td><td>5.356765</td><td>5.703651</td><td>6.089982</td><td>4.067121</td><td>3.307360</td></tr>\n",
       "\t<tr><th scope=row>24</th><td>2.886362</td><td>5.024267</td><td>1.5203763</td><td>1.344177</td><td>2.906241</td><td>0.4318391</td><td>0.1069501</td><td>1.618133</td><td>0.3332127</td><td>4.029493</td><td>...</td><td>3.057466</td><td>5.388547</td><td>2.705370</td><td>3.931634</td><td>5.496542</td><td>5.319488</td><td>5.184933</td><td>5.756255</td><td>3.748328</td><td>3.249299</td></tr>\n",
       "\t<tr><th scope=row>29</th><td>3.933624</td><td>5.149140</td><td>1.5752228</td><td>2.337130</td><td>3.474056</td><td>0.6429045</td><td>0.2042219</td><td>1.824938</td><td>0.6606528</td><td>4.172865</td><td>...</td><td>3.428676</td><td>5.666797</td><td>3.734106</td><td>3.420805</td><td>5.464787</td><td>5.131261</td><td>5.237466</td><td>6.000836</td><td>3.294391</td><td>3.228499</td></tr>\n",
       "\t<tr><th scope=row>31</th><td>3.143183</td><td>5.053394</td><td>1.2935894</td><td>1.344177</td><td>2.173801</td><td>0.4805483</td><td>0.1069501</td><td>1.431195</td><td>0.2156489</td><td>3.788628</td><td>...</td><td>3.055145</td><td>5.450116</td><td>3.104459</td><td>3.388880</td><td>5.328221</td><td>4.319571</td><td>4.567395</td><td>5.733079</td><td>3.551562</td><td>3.500628</td></tr>\n",
       "\t<tr><th scope=row>32</th><td>3.140736</td><td>5.015865</td><td>0.9818745</td><td>1.344177</td><td>3.126219</td><td>0.4318391</td><td>0.1900773</td><td>1.673276</td><td>0.8980809</td><td>4.082032</td><td>...</td><td>3.775538</td><td>5.511149</td><td>3.494180</td><td>3.101947</td><td>5.197415</td><td>5.416387</td><td>5.442097</td><td>5.921499</td><td>3.045548</td><td>3.251998</td></tr>\n",
       "\t<tr><th scope=row>37</th><td>3.630411</td><td>5.062953</td><td>1.0650574</td><td>1.344177</td><td>2.433365</td><td>0.7068382</td><td>0.1523370</td><td>1.481939</td><td>0.2156489</td><td>3.748442</td><td>...</td><td>3.738194</td><td>5.002057</td><td>3.557534</td><td>3.284283</td><td>5.484997</td><td>5.403992</td><td>5.144288</td><td>5.953639</td><td>3.958054</td><td>3.983964</td></tr>\n",
       "\t<tr><th scope=row>39</th><td>3.277922</td><td>5.095795</td><td>1.3711763</td><td>1.928767</td><td>2.706283</td><td>0.5493210</td><td>0.1069501</td><td>1.764587</td><td>0.4710561</td><td>4.253716</td><td>...</td><td>3.724373</td><td>5.612601</td><td>3.745507</td><td>3.815008</td><td>5.417080</td><td>5.590938</td><td>5.722031</td><td>6.164426</td><td>4.314529</td><td>3.550594</td></tr>\n",
       "\t<tr><th scope=row>42</th><td>2.507945</td><td>5.058500</td><td>1.5253454</td><td>1.633716</td><td>3.253071</td><td>1.2048974</td><td>0.1833544</td><td>1.517131</td><td>0.4935801</td><td>4.219042</td><td>...</td><td>3.843092</td><td>5.573395</td><td>3.334786</td><td>3.940789</td><td>5.582821</td><td>5.400984</td><td>5.382845</td><td>5.893526</td><td>4.068193</td><td>2.954794</td></tr>\n",
       "\t<tr><th scope=row>43</th><td>4.056203</td><td>5.083419</td><td>1.0520603</td><td>1.791062</td><td>2.835354</td><td>0.4318391</td><td>0.1112280</td><td>1.309551</td><td>0.2156489</td><td>4.053232</td><td>...</td><td>3.612227</td><td>5.169326</td><td>3.007161</td><td>3.852399</td><td>4.872243</td><td>3.717039</td><td>5.564441</td><td>5.689984</td><td>3.248228</td><td>3.638991</td></tr>\n",
       "\t<tr><th scope=row>44</th><td>3.682639</td><td>5.097010</td><td>1.4183648</td><td>1.485510</td><td>3.048889</td><td>0.4658486</td><td>0.1204602</td><td>1.593094</td><td>0.3213515</td><td>3.904851</td><td>...</td><td>3.867401</td><td>4.213430</td><td>3.081618</td><td>4.148266</td><td>5.169199</td><td>4.138700</td><td>4.371053</td><td>5.692628</td><td>3.815598</td><td>3.376884</td></tr>\n",
       "\t<tr><th scope=row>45</th><td>3.413323</td><td>5.083659</td><td>1.5387143</td><td>1.971939</td><td>3.497187</td><td>0.9600103</td><td>0.1069501</td><td>1.627195</td><td>0.3672983</td><td>4.006070</td><td>...</td><td>2.955694</td><td>5.278546</td><td>3.182183</td><td>3.295372</td><td>5.470309</td><td>5.216949</td><td>5.055234</td><td>5.834798</td><td>3.198875</td><td>3.321795</td></tr>\n",
       "\t<tr><th scope=row>49</th><td>3.485218</td><td>5.116156</td><td>1.4093747</td><td>1.542331</td><td>3.176025</td><td>0.9377636</td><td>0.1069501</td><td>1.704630</td><td>0.3090506</td><td>4.323722</td><td>...</td><td>3.618028</td><td>5.134801</td><td>3.485585</td><td>3.539159</td><td>5.464994</td><td>5.443405</td><td>5.765897</td><td>5.866510</td><td>3.959112</td><td>3.843254</td></tr>\n",
       "</tbody>\n",
       "</table>\n"
      ],
      "text/latex": [
       "A data.frame: 14 × 24\n",
       "\\begin{tabular}{r|lllllllllllllllllllll}\n",
       "  & X1 & X2 & X3 & X4 & X5 & X6 & X7 & X8 & X9 & X10 & ... & X15 & X16 & X17 & X18 & X19 & X20 & X21 & X22 & X23 & X24\\\\\n",
       "  & <dbl> & <dbl> & <dbl> & <dbl> & <dbl> & <dbl> & <dbl> & <dbl> & <dbl> & <dbl> & ... & <dbl> & <dbl> & <dbl> & <dbl> & <dbl> & <dbl> & <dbl> & <dbl> & <dbl> & <dbl>\\\\\n",
       "\\hline\n",
       "\t10 & 3.477943 & 5.106642 & 1.1826421 & 1.749286 & 2.693923 & 0.7766737 & 0.1879906 & 1.648187 & 0.4132371 & 4.185558 & ... & 3.893815 & 5.324560 & 2.991380 & 3.915881 & 5.595366 & 5.001265 & 5.559353 & 5.729209 & 2.960721 & 3.821425\\\\\n",
       "\t14 & 3.359531 & 5.001123 & 0.8422086 & 1.344177 & 2.882128 & 0.4318391 & 0.1220760 & 1.512389 & 0.3710987 & 3.800086 & ... & 3.603228 & 5.341294 & 2.756925 & 3.696029 & 5.531991 & 5.356777 & 5.108297 & 5.794243 & 2.827372 & 3.584482\\\\\n",
       "\t20 & 4.098531 & 5.172936 & 1.5200437 & 2.398182 & 3.335071 & 0.4318391 & 0.1069501 & 1.836509 & 0.6973860 & 4.320196 & ... & 3.842741 & 5.545618 & 3.865310 & 4.021850 & 5.238543 & 5.356765 & 5.703651 & 6.089982 & 4.067121 & 3.307360\\\\\n",
       "\t24 & 2.886362 & 5.024267 & 1.5203763 & 1.344177 & 2.906241 & 0.4318391 & 0.1069501 & 1.618133 & 0.3332127 & 4.029493 & ... & 3.057466 & 5.388547 & 2.705370 & 3.931634 & 5.496542 & 5.319488 & 5.184933 & 5.756255 & 3.748328 & 3.249299\\\\\n",
       "\t29 & 3.933624 & 5.149140 & 1.5752228 & 2.337130 & 3.474056 & 0.6429045 & 0.2042219 & 1.824938 & 0.6606528 & 4.172865 & ... & 3.428676 & 5.666797 & 3.734106 & 3.420805 & 5.464787 & 5.131261 & 5.237466 & 6.000836 & 3.294391 & 3.228499\\\\\n",
       "\t31 & 3.143183 & 5.053394 & 1.2935894 & 1.344177 & 2.173801 & 0.4805483 & 0.1069501 & 1.431195 & 0.2156489 & 3.788628 & ... & 3.055145 & 5.450116 & 3.104459 & 3.388880 & 5.328221 & 4.319571 & 4.567395 & 5.733079 & 3.551562 & 3.500628\\\\\n",
       "\t32 & 3.140736 & 5.015865 & 0.9818745 & 1.344177 & 3.126219 & 0.4318391 & 0.1900773 & 1.673276 & 0.8980809 & 4.082032 & ... & 3.775538 & 5.511149 & 3.494180 & 3.101947 & 5.197415 & 5.416387 & 5.442097 & 5.921499 & 3.045548 & 3.251998\\\\\n",
       "\t37 & 3.630411 & 5.062953 & 1.0650574 & 1.344177 & 2.433365 & 0.7068382 & 0.1523370 & 1.481939 & 0.2156489 & 3.748442 & ... & 3.738194 & 5.002057 & 3.557534 & 3.284283 & 5.484997 & 5.403992 & 5.144288 & 5.953639 & 3.958054 & 3.983964\\\\\n",
       "\t39 & 3.277922 & 5.095795 & 1.3711763 & 1.928767 & 2.706283 & 0.5493210 & 0.1069501 & 1.764587 & 0.4710561 & 4.253716 & ... & 3.724373 & 5.612601 & 3.745507 & 3.815008 & 5.417080 & 5.590938 & 5.722031 & 6.164426 & 4.314529 & 3.550594\\\\\n",
       "\t42 & 2.507945 & 5.058500 & 1.5253454 & 1.633716 & 3.253071 & 1.2048974 & 0.1833544 & 1.517131 & 0.4935801 & 4.219042 & ... & 3.843092 & 5.573395 & 3.334786 & 3.940789 & 5.582821 & 5.400984 & 5.382845 & 5.893526 & 4.068193 & 2.954794\\\\\n",
       "\t43 & 4.056203 & 5.083419 & 1.0520603 & 1.791062 & 2.835354 & 0.4318391 & 0.1112280 & 1.309551 & 0.2156489 & 4.053232 & ... & 3.612227 & 5.169326 & 3.007161 & 3.852399 & 4.872243 & 3.717039 & 5.564441 & 5.689984 & 3.248228 & 3.638991\\\\\n",
       "\t44 & 3.682639 & 5.097010 & 1.4183648 & 1.485510 & 3.048889 & 0.4658486 & 0.1204602 & 1.593094 & 0.3213515 & 3.904851 & ... & 3.867401 & 4.213430 & 3.081618 & 4.148266 & 5.169199 & 4.138700 & 4.371053 & 5.692628 & 3.815598 & 3.376884\\\\\n",
       "\t45 & 3.413323 & 5.083659 & 1.5387143 & 1.971939 & 3.497187 & 0.9600103 & 0.1069501 & 1.627195 & 0.3672983 & 4.006070 & ... & 2.955694 & 5.278546 & 3.182183 & 3.295372 & 5.470309 & 5.216949 & 5.055234 & 5.834798 & 3.198875 & 3.321795\\\\\n",
       "\t49 & 3.485218 & 5.116156 & 1.4093747 & 1.542331 & 3.176025 & 0.9377636 & 0.1069501 & 1.704630 & 0.3090506 & 4.323722 & ... & 3.618028 & 5.134801 & 3.485585 & 3.539159 & 5.464994 & 5.443405 & 5.765897 & 5.866510 & 3.959112 & 3.843254\\\\\n",
       "\\end{tabular}\n"
      ],
      "text/markdown": [
       "\n",
       "A data.frame: 14 × 24\n",
       "\n",
       "| <!--/--> | X1 &lt;dbl&gt; | X2 &lt;dbl&gt; | X3 &lt;dbl&gt; | X4 &lt;dbl&gt; | X5 &lt;dbl&gt; | X6 &lt;dbl&gt; | X7 &lt;dbl&gt; | X8 &lt;dbl&gt; | X9 &lt;dbl&gt; | X10 &lt;dbl&gt; | ... ... | X15 &lt;dbl&gt; | X16 &lt;dbl&gt; | X17 &lt;dbl&gt; | X18 &lt;dbl&gt; | X19 &lt;dbl&gt; | X20 &lt;dbl&gt; | X21 &lt;dbl&gt; | X22 &lt;dbl&gt; | X23 &lt;dbl&gt; | X24 &lt;dbl&gt; |\n",
       "|---|---|---|---|---|---|---|---|---|---|---|---|---|---|---|---|---|---|---|---|---|---|\n",
       "| 10 | 3.477943 | 5.106642 | 1.1826421 | 1.749286 | 2.693923 | 0.7766737 | 0.1879906 | 1.648187 | 0.4132371 | 4.185558 | ... | 3.893815 | 5.324560 | 2.991380 | 3.915881 | 5.595366 | 5.001265 | 5.559353 | 5.729209 | 2.960721 | 3.821425 |\n",
       "| 14 | 3.359531 | 5.001123 | 0.8422086 | 1.344177 | 2.882128 | 0.4318391 | 0.1220760 | 1.512389 | 0.3710987 | 3.800086 | ... | 3.603228 | 5.341294 | 2.756925 | 3.696029 | 5.531991 | 5.356777 | 5.108297 | 5.794243 | 2.827372 | 3.584482 |\n",
       "| 20 | 4.098531 | 5.172936 | 1.5200437 | 2.398182 | 3.335071 | 0.4318391 | 0.1069501 | 1.836509 | 0.6973860 | 4.320196 | ... | 3.842741 | 5.545618 | 3.865310 | 4.021850 | 5.238543 | 5.356765 | 5.703651 | 6.089982 | 4.067121 | 3.307360 |\n",
       "| 24 | 2.886362 | 5.024267 | 1.5203763 | 1.344177 | 2.906241 | 0.4318391 | 0.1069501 | 1.618133 | 0.3332127 | 4.029493 | ... | 3.057466 | 5.388547 | 2.705370 | 3.931634 | 5.496542 | 5.319488 | 5.184933 | 5.756255 | 3.748328 | 3.249299 |\n",
       "| 29 | 3.933624 | 5.149140 | 1.5752228 | 2.337130 | 3.474056 | 0.6429045 | 0.2042219 | 1.824938 | 0.6606528 | 4.172865 | ... | 3.428676 | 5.666797 | 3.734106 | 3.420805 | 5.464787 | 5.131261 | 5.237466 | 6.000836 | 3.294391 | 3.228499 |\n",
       "| 31 | 3.143183 | 5.053394 | 1.2935894 | 1.344177 | 2.173801 | 0.4805483 | 0.1069501 | 1.431195 | 0.2156489 | 3.788628 | ... | 3.055145 | 5.450116 | 3.104459 | 3.388880 | 5.328221 | 4.319571 | 4.567395 | 5.733079 | 3.551562 | 3.500628 |\n",
       "| 32 | 3.140736 | 5.015865 | 0.9818745 | 1.344177 | 3.126219 | 0.4318391 | 0.1900773 | 1.673276 | 0.8980809 | 4.082032 | ... | 3.775538 | 5.511149 | 3.494180 | 3.101947 | 5.197415 | 5.416387 | 5.442097 | 5.921499 | 3.045548 | 3.251998 |\n",
       "| 37 | 3.630411 | 5.062953 | 1.0650574 | 1.344177 | 2.433365 | 0.7068382 | 0.1523370 | 1.481939 | 0.2156489 | 3.748442 | ... | 3.738194 | 5.002057 | 3.557534 | 3.284283 | 5.484997 | 5.403992 | 5.144288 | 5.953639 | 3.958054 | 3.983964 |\n",
       "| 39 | 3.277922 | 5.095795 | 1.3711763 | 1.928767 | 2.706283 | 0.5493210 | 0.1069501 | 1.764587 | 0.4710561 | 4.253716 | ... | 3.724373 | 5.612601 | 3.745507 | 3.815008 | 5.417080 | 5.590938 | 5.722031 | 6.164426 | 4.314529 | 3.550594 |\n",
       "| 42 | 2.507945 | 5.058500 | 1.5253454 | 1.633716 | 3.253071 | 1.2048974 | 0.1833544 | 1.517131 | 0.4935801 | 4.219042 | ... | 3.843092 | 5.573395 | 3.334786 | 3.940789 | 5.582821 | 5.400984 | 5.382845 | 5.893526 | 4.068193 | 2.954794 |\n",
       "| 43 | 4.056203 | 5.083419 | 1.0520603 | 1.791062 | 2.835354 | 0.4318391 | 0.1112280 | 1.309551 | 0.2156489 | 4.053232 | ... | 3.612227 | 5.169326 | 3.007161 | 3.852399 | 4.872243 | 3.717039 | 5.564441 | 5.689984 | 3.248228 | 3.638991 |\n",
       "| 44 | 3.682639 | 5.097010 | 1.4183648 | 1.485510 | 3.048889 | 0.4658486 | 0.1204602 | 1.593094 | 0.3213515 | 3.904851 | ... | 3.867401 | 4.213430 | 3.081618 | 4.148266 | 5.169199 | 4.138700 | 4.371053 | 5.692628 | 3.815598 | 3.376884 |\n",
       "| 45 | 3.413323 | 5.083659 | 1.5387143 | 1.971939 | 3.497187 | 0.9600103 | 0.1069501 | 1.627195 | 0.3672983 | 4.006070 | ... | 2.955694 | 5.278546 | 3.182183 | 3.295372 | 5.470309 | 5.216949 | 5.055234 | 5.834798 | 3.198875 | 3.321795 |\n",
       "| 49 | 3.485218 | 5.116156 | 1.4093747 | 1.542331 | 3.176025 | 0.9377636 | 0.1069501 | 1.704630 | 0.3090506 | 4.323722 | ... | 3.618028 | 5.134801 | 3.485585 | 3.539159 | 5.464994 | 5.443405 | 5.765897 | 5.866510 | 3.959112 | 3.843254 |\n",
       "\n"
      ],
      "text/plain": [
       "   X1       X2       X3        X4       X5       X6        X7        X8      \n",
       "10 3.477943 5.106642 1.1826421 1.749286 2.693923 0.7766737 0.1879906 1.648187\n",
       "14 3.359531 5.001123 0.8422086 1.344177 2.882128 0.4318391 0.1220760 1.512389\n",
       "20 4.098531 5.172936 1.5200437 2.398182 3.335071 0.4318391 0.1069501 1.836509\n",
       "24 2.886362 5.024267 1.5203763 1.344177 2.906241 0.4318391 0.1069501 1.618133\n",
       "29 3.933624 5.149140 1.5752228 2.337130 3.474056 0.6429045 0.2042219 1.824938\n",
       "31 3.143183 5.053394 1.2935894 1.344177 2.173801 0.4805483 0.1069501 1.431195\n",
       "32 3.140736 5.015865 0.9818745 1.344177 3.126219 0.4318391 0.1900773 1.673276\n",
       "37 3.630411 5.062953 1.0650574 1.344177 2.433365 0.7068382 0.1523370 1.481939\n",
       "39 3.277922 5.095795 1.3711763 1.928767 2.706283 0.5493210 0.1069501 1.764587\n",
       "42 2.507945 5.058500 1.5253454 1.633716 3.253071 1.2048974 0.1833544 1.517131\n",
       "43 4.056203 5.083419 1.0520603 1.791062 2.835354 0.4318391 0.1112280 1.309551\n",
       "44 3.682639 5.097010 1.4183648 1.485510 3.048889 0.4658486 0.1204602 1.593094\n",
       "45 3.413323 5.083659 1.5387143 1.971939 3.497187 0.9600103 0.1069501 1.627195\n",
       "49 3.485218 5.116156 1.4093747 1.542331 3.176025 0.9377636 0.1069501 1.704630\n",
       "   X9        X10      ... X15      X16      X17      X18      X19      X20     \n",
       "10 0.4132371 4.185558 ... 3.893815 5.324560 2.991380 3.915881 5.595366 5.001265\n",
       "14 0.3710987 3.800086 ... 3.603228 5.341294 2.756925 3.696029 5.531991 5.356777\n",
       "20 0.6973860 4.320196 ... 3.842741 5.545618 3.865310 4.021850 5.238543 5.356765\n",
       "24 0.3332127 4.029493 ... 3.057466 5.388547 2.705370 3.931634 5.496542 5.319488\n",
       "29 0.6606528 4.172865 ... 3.428676 5.666797 3.734106 3.420805 5.464787 5.131261\n",
       "31 0.2156489 3.788628 ... 3.055145 5.450116 3.104459 3.388880 5.328221 4.319571\n",
       "32 0.8980809 4.082032 ... 3.775538 5.511149 3.494180 3.101947 5.197415 5.416387\n",
       "37 0.2156489 3.748442 ... 3.738194 5.002057 3.557534 3.284283 5.484997 5.403992\n",
       "39 0.4710561 4.253716 ... 3.724373 5.612601 3.745507 3.815008 5.417080 5.590938\n",
       "42 0.4935801 4.219042 ... 3.843092 5.573395 3.334786 3.940789 5.582821 5.400984\n",
       "43 0.2156489 4.053232 ... 3.612227 5.169326 3.007161 3.852399 4.872243 3.717039\n",
       "44 0.3213515 3.904851 ... 3.867401 4.213430 3.081618 4.148266 5.169199 4.138700\n",
       "45 0.3672983 4.006070 ... 2.955694 5.278546 3.182183 3.295372 5.470309 5.216949\n",
       "49 0.3090506 4.323722 ... 3.618028 5.134801 3.485585 3.539159 5.464994 5.443405\n",
       "   X21      X22      X23      X24     \n",
       "10 5.559353 5.729209 2.960721 3.821425\n",
       "14 5.108297 5.794243 2.827372 3.584482\n",
       "20 5.703651 6.089982 4.067121 3.307360\n",
       "24 5.184933 5.756255 3.748328 3.249299\n",
       "29 5.237466 6.000836 3.294391 3.228499\n",
       "31 4.567395 5.733079 3.551562 3.500628\n",
       "32 5.442097 5.921499 3.045548 3.251998\n",
       "37 5.144288 5.953639 3.958054 3.983964\n",
       "39 5.722031 6.164426 4.314529 3.550594\n",
       "42 5.382845 5.893526 4.068193 2.954794\n",
       "43 5.564441 5.689984 3.248228 3.638991\n",
       "44 4.371053 5.692628 3.815598 3.376884\n",
       "45 5.055234 5.834798 3.198875 3.321795\n",
       "49 5.765897 5.866510 3.959112 3.843254"
      ]
     },
     "metadata": {},
     "output_type": "display_data"
    }
   ],
   "source": [
    "\n",
    "patient_2_cluster_20<- patient_2_cluster_20[complete.cases(patient_2_cluster_20), ]\n",
    "patient_2_cluster_20"
   ]
  },
  {
   "cell_type": "code",
   "execution_count": null,
   "metadata": {},
   "outputs": [],
   "source": [
    "patient"
   ]
  },
  {
   "cell_type": "code",
   "execution_count": null,
   "metadata": {},
   "outputs": [],
   "source": []
  },
  {
   "cell_type": "code",
   "execution_count": null,
   "metadata": {},
   "outputs": [],
   "source": []
  },
  {
   "cell_type": "code",
   "execution_count": 229,
   "metadata": {},
   "outputs": [],
   "source": [
    "x1<- data.frame(Var=1, Var2=2, Var3=3)\n",
    "for (i in c(1:3))\n",
    "\n",
    "    {`[<-.data.frame`(get(paste0(\"x\", 1)), 1,i,concat_value[ ,i])}"
   ]
  },
  {
   "cell_type": "code",
   "execution_count": 230,
   "metadata": {},
   "outputs": [
    {
     "data": {
      "text/html": [
       "<table>\n",
       "<caption>A data.frame: 1 × 3</caption>\n",
       "<thead>\n",
       "\t<tr><th scope=col>Var</th><th scope=col>Var2</th><th scope=col>Var3</th></tr>\n",
       "\t<tr><th scope=col>&lt;dbl&gt;</th><th scope=col>&lt;dbl&gt;</th><th scope=col>&lt;dbl&gt;</th></tr>\n",
       "</thead>\n",
       "<tbody>\n",
       "\t<tr><td>1</td><td>2</td><td>3</td></tr>\n",
       "</tbody>\n",
       "</table>\n"
      ],
      "text/latex": [
       "A data.frame: 1 × 3\n",
       "\\begin{tabular}{lll}\n",
       " Var & Var2 & Var3\\\\\n",
       " <dbl> & <dbl> & <dbl>\\\\\n",
       "\\hline\n",
       "\t 1 & 2 & 3\\\\\n",
       "\\end{tabular}\n"
      ],
      "text/markdown": [
       "\n",
       "A data.frame: 1 × 3\n",
       "\n",
       "| Var &lt;dbl&gt; | Var2 &lt;dbl&gt; | Var3 &lt;dbl&gt; |\n",
       "|---|---|---|\n",
       "| 1 | 2 | 3 |\n",
       "\n"
      ],
      "text/plain": [
       "  Var Var2 Var3\n",
       "1 1   2    3   "
      ]
     },
     "metadata": {},
     "output_type": "display_data"
    }
   ],
   "source": [
    "x1"
   ]
  },
  {
   "cell_type": "code",
   "execution_count": 234,
   "metadata": {},
   "outputs": [],
   "source": [
    "x1<- data.frame(Var=1, Var2=2, Var3=3)\n",
    "for (i in c(1:3))\n",
    "\n",
    "    {assign(paste0(\"x\",1), `[<-`(get(paste0(\"x\", 1)), 1, i, concat_value[ ,i]))}"
   ]
  },
  {
   "cell_type": "code",
   "execution_count": null,
   "metadata": {},
   "outputs": [],
   "source": []
  },
  {
   "cell_type": "code",
   "execution_count": 235,
   "metadata": {},
   "outputs": [
    {
     "data": {
      "text/html": [
       "<table>\n",
       "<caption>A data.frame: 1 × 3</caption>\n",
       "<thead>\n",
       "\t<tr><th scope=col>Var</th><th scope=col>Var2</th><th scope=col>Var3</th></tr>\n",
       "\t<tr><th scope=col>&lt;dbl&gt;</th><th scope=col>&lt;dbl&gt;</th><th scope=col>&lt;dbl&gt;</th></tr>\n",
       "</thead>\n",
       "<tbody>\n",
       "\t<tr><td>3.828296</td><td>5.073119</td><td>0.8636331</td></tr>\n",
       "</tbody>\n",
       "</table>\n"
      ],
      "text/latex": [
       "A data.frame: 1 × 3\n",
       "\\begin{tabular}{lll}\n",
       " Var & Var2 & Var3\\\\\n",
       " <dbl> & <dbl> & <dbl>\\\\\n",
       "\\hline\n",
       "\t 3.828296 & 5.073119 & 0.8636331\\\\\n",
       "\\end{tabular}\n"
      ],
      "text/markdown": [
       "\n",
       "A data.frame: 1 × 3\n",
       "\n",
       "| Var &lt;dbl&gt; | Var2 &lt;dbl&gt; | Var3 &lt;dbl&gt; |\n",
       "|---|---|---|\n",
       "| 3.828296 | 5.073119 | 0.8636331 |\n",
       "\n"
      ],
      "text/plain": [
       "  Var      Var2     Var3     \n",
       "1 3.828296 5.073119 0.8636331"
      ]
     },
     "metadata": {},
     "output_type": "display_data"
    }
   ],
   "source": [
    "x1"
   ]
  },
  {
   "cell_type": "code",
   "execution_count": 228,
   "metadata": {},
   "outputs": [
    {
     "data": {
      "text/html": [
       "0.863633105020175"
      ],
      "text/latex": [
       "0.863633105020175"
      ],
      "text/markdown": [
       "0.863633105020175"
      ],
      "text/plain": [
       "[1] 0.8636331"
      ]
     },
     "metadata": {},
     "output_type": "display_data"
    }
   ],
   "source": [
    "concat_value[ ,i]"
   ]
  },
  {
   "cell_type": "code",
   "execution_count": null,
   "metadata": {},
   "outputs": [],
   "source": []
  },
  {
   "cell_type": "code",
   "execution_count": 184,
   "metadata": {},
   "outputs": [],
   "source": [
    "vvy<- data.frame(matrix(NA, nrow=30, ncol= 3))"
   ]
  },
  {
   "cell_type": "code",
   "execution_count": 177,
   "metadata": {},
   "outputs": [],
   "source": [
    "vvy= c(1,3,5)"
   ]
  },
  {
   "cell_type": "code",
   "execution_count": 191,
   "metadata": {},
   "outputs": [
    {
     "ename": "ERROR",
     "evalue": "Error in parse(text = x, srcfile = src): <text>:1:28: unexpected '['\n1: '[<-'(eval(as.name(\"vvy\")),[\n                               ^\n",
     "output_type": "error",
     "traceback": [
      "Error in parse(text = x, srcfile = src): <text>:1:28: unexpected '['\n1: '[<-'(eval(as.name(\"vvy\")),[\n                               ^\nTraceback:\n"
     ]
    }
   ],
   "source": [
    "'[<-'(eval(as.name(\"vvy\")),i=5, value=data.frame(1,2,3))"
   ]
  },
  {
   "cell_type": "code",
   "execution_count": 204,
   "metadata": {},
   "outputs": [
    {
     "ename": "ERROR",
     "evalue": "Error in assign(\"vvy\", 5, pos = 2): cannot add bindings to a locked environment\n",
     "output_type": "error",
     "traceback": [
      "Error in assign(\"vvy\", 5, pos = 2): cannot add bindings to a locked environment\nTraceback:\n",
      "1. assign(\"vvy\", 5, pos = 2)",
      "2. assign(\"vvy\", 5, pos = 2)"
     ]
    }
   ],
   "source": [
    "assign(\"vvy\", 5, pos=2)"
   ]
  },
  {
   "cell_type": "code",
   "execution_count": 203,
   "metadata": {},
   "outputs": [
    {
     "data": {
      "text/html": [
       "5"
      ],
      "text/latex": [
       "5"
      ],
      "text/markdown": [
       "5"
      ],
      "text/plain": [
       "[1] 5"
      ]
     },
     "metadata": {},
     "output_type": "display_data"
    }
   ],
   "source": [
    "vvy"
   ]
  },
  {
   "cell_type": "code",
   "execution_count": 175,
   "metadata": {},
   "outputs": [
    {
     "data": {
      "text/html": [
       "5"
      ],
      "text/latex": [
       "5"
      ],
      "text/markdown": [
       "5"
      ],
      "text/plain": [
       "[1] 5"
      ]
     },
     "metadata": {},
     "output_type": "display_data"
    }
   ],
   "source": [
    "get(\"vvy[1]\")"
   ]
  },
  {
   "cell_type": "code",
   "execution_count": 192,
   "metadata": {},
   "outputs": [],
   "source": []
  },
  {
   "cell_type": "code",
   "execution_count": 208,
   "metadata": {},
   "outputs": [],
   "source": [
    "datalist = list()\n",
    "\n",
    "for (i in 1:5) {\n",
    "    dat <- data.frame(x = rnorm(10), y = runif(10))\n",
    "    dat$i <- i \n",
    "    datalist[[i]] <- dat }\n",
    "\n",
    "big_data = do.call(rbind, datalist)"
   ]
  },
  {
   "cell_type": "code",
   "execution_count": 209,
   "metadata": {},
   "outputs": [
    {
     "data": {
      "text/html": [
       "<table>\n",
       "<caption>A data.frame: 50 × 3</caption>\n",
       "<thead>\n",
       "\t<tr><th scope=col>x</th><th scope=col>y</th><th scope=col>i</th></tr>\n",
       "\t<tr><th scope=col>&lt;dbl&gt;</th><th scope=col>&lt;dbl&gt;</th><th scope=col>&lt;int&gt;</th></tr>\n",
       "</thead>\n",
       "<tbody>\n",
       "\t<tr><td> 1.4039744447</td><td>0.773831669</td><td>1</td></tr>\n",
       "\t<tr><td> 0.2116306982</td><td>0.651177878</td><td>1</td></tr>\n",
       "\t<tr><td> 0.0006411098</td><td>0.484072793</td><td>1</td></tr>\n",
       "\t<tr><td>-0.3179697050</td><td>0.112438754</td><td>1</td></tr>\n",
       "\t<tr><td> 0.9743692345</td><td>0.222255147</td><td>1</td></tr>\n",
       "\t<tr><td>-1.4465862471</td><td>0.815598184</td><td>1</td></tr>\n",
       "\t<tr><td> 0.3079456057</td><td>0.324950981</td><td>1</td></tr>\n",
       "\t<tr><td>-0.0531621253</td><td>0.262050972</td><td>1</td></tr>\n",
       "\t<tr><td>-0.9534946081</td><td>0.442722119</td><td>1</td></tr>\n",
       "\t<tr><td> 0.0609172027</td><td>0.124231318</td><td>1</td></tr>\n",
       "\t<tr><td> 0.4972655134</td><td>0.061977743</td><td>2</td></tr>\n",
       "\t<tr><td>-0.1441714455</td><td>0.605698110</td><td>2</td></tr>\n",
       "\t<tr><td> 0.1884018473</td><td>0.463619214</td><td>2</td></tr>\n",
       "\t<tr><td> 0.3153156727</td><td>0.825421811</td><td>2</td></tr>\n",
       "\t<tr><td>-0.1154756939</td><td>0.653622435</td><td>2</td></tr>\n",
       "\t<tr><td>-1.7879130034</td><td>0.290055920</td><td>2</td></tr>\n",
       "\t<tr><td>-1.2945344197</td><td>0.073020001</td><td>2</td></tr>\n",
       "\t<tr><td>-0.5322971178</td><td>0.995975613</td><td>2</td></tr>\n",
       "\t<tr><td> 0.6246811300</td><td>0.852632993</td><td>2</td></tr>\n",
       "\t<tr><td>-0.5193587108</td><td>0.820149092</td><td>2</td></tr>\n",
       "\t<tr><td> 0.8813219309</td><td>0.524122838</td><td>3</td></tr>\n",
       "\t<tr><td>-0.3868209252</td><td>0.440477346</td><td>3</td></tr>\n",
       "\t<tr><td>-3.6543208168</td><td>0.380421583</td><td>3</td></tr>\n",
       "\t<tr><td> 1.2437633038</td><td>0.797392889</td><td>3</td></tr>\n",
       "\t<tr><td>-0.8558119770</td><td>0.247418811</td><td>3</td></tr>\n",
       "\t<tr><td> 0.6903509179</td><td>0.548021363</td><td>3</td></tr>\n",
       "\t<tr><td>-1.2564154388</td><td>0.190539701</td><td>3</td></tr>\n",
       "\t<tr><td> 1.0080774007</td><td>0.688330354</td><td>3</td></tr>\n",
       "\t<tr><td> 1.9351987417</td><td>0.327370602</td><td>3</td></tr>\n",
       "\t<tr><td> 0.0514002857</td><td>0.187184654</td><td>3</td></tr>\n",
       "\t<tr><td>-0.6057218905</td><td>0.181736062</td><td>4</td></tr>\n",
       "\t<tr><td> 0.6057210243</td><td>0.303023102</td><td>4</td></tr>\n",
       "\t<tr><td>-1.3059831417</td><td>0.966943954</td><td>4</td></tr>\n",
       "\t<tr><td> 0.6718389882</td><td>0.892961039</td><td>4</td></tr>\n",
       "\t<tr><td>-0.8671996532</td><td>0.420793012</td><td>4</td></tr>\n",
       "\t<tr><td>-0.7388763459</td><td>0.283431214</td><td>4</td></tr>\n",
       "\t<tr><td>-1.4297405137</td><td>0.645423013</td><td>4</td></tr>\n",
       "\t<tr><td> 0.8598654680</td><td>0.864933220</td><td>4</td></tr>\n",
       "\t<tr><td>-2.7015730800</td><td>0.770279579</td><td>4</td></tr>\n",
       "\t<tr><td>-0.5749366554</td><td>0.656404019</td><td>4</td></tr>\n",
       "\t<tr><td> 0.6938646628</td><td>0.665066796</td><td>5</td></tr>\n",
       "\t<tr><td> 0.5744177639</td><td>0.342255171</td><td>5</td></tr>\n",
       "\t<tr><td> 0.1044352482</td><td>0.135436156</td><td>5</td></tr>\n",
       "\t<tr><td> 1.3163036553</td><td>0.940387422</td><td>5</td></tr>\n",
       "\t<tr><td>-0.7147054143</td><td>0.144645143</td><td>5</td></tr>\n",
       "\t<tr><td>-0.4611804298</td><td>0.009824262</td><td>5</td></tr>\n",
       "\t<tr><td>-0.0065585423</td><td>0.594935855</td><td>5</td></tr>\n",
       "\t<tr><td>-0.0926315533</td><td>0.131758898</td><td>5</td></tr>\n",
       "\t<tr><td> 1.1655315209</td><td>0.833314240</td><td>5</td></tr>\n",
       "\t<tr><td>-0.6342274898</td><td>0.385101896</td><td>5</td></tr>\n",
       "</tbody>\n",
       "</table>\n"
      ],
      "text/latex": [
       "A data.frame: 50 × 3\n",
       "\\begin{tabular}{lll}\n",
       " x & y & i\\\\\n",
       " <dbl> & <dbl> & <int>\\\\\n",
       "\\hline\n",
       "\t  1.4039744447 & 0.773831669 & 1\\\\\n",
       "\t  0.2116306982 & 0.651177878 & 1\\\\\n",
       "\t  0.0006411098 & 0.484072793 & 1\\\\\n",
       "\t -0.3179697050 & 0.112438754 & 1\\\\\n",
       "\t  0.9743692345 & 0.222255147 & 1\\\\\n",
       "\t -1.4465862471 & 0.815598184 & 1\\\\\n",
       "\t  0.3079456057 & 0.324950981 & 1\\\\\n",
       "\t -0.0531621253 & 0.262050972 & 1\\\\\n",
       "\t -0.9534946081 & 0.442722119 & 1\\\\\n",
       "\t  0.0609172027 & 0.124231318 & 1\\\\\n",
       "\t  0.4972655134 & 0.061977743 & 2\\\\\n",
       "\t -0.1441714455 & 0.605698110 & 2\\\\\n",
       "\t  0.1884018473 & 0.463619214 & 2\\\\\n",
       "\t  0.3153156727 & 0.825421811 & 2\\\\\n",
       "\t -0.1154756939 & 0.653622435 & 2\\\\\n",
       "\t -1.7879130034 & 0.290055920 & 2\\\\\n",
       "\t -1.2945344197 & 0.073020001 & 2\\\\\n",
       "\t -0.5322971178 & 0.995975613 & 2\\\\\n",
       "\t  0.6246811300 & 0.852632993 & 2\\\\\n",
       "\t -0.5193587108 & 0.820149092 & 2\\\\\n",
       "\t  0.8813219309 & 0.524122838 & 3\\\\\n",
       "\t -0.3868209252 & 0.440477346 & 3\\\\\n",
       "\t -3.6543208168 & 0.380421583 & 3\\\\\n",
       "\t  1.2437633038 & 0.797392889 & 3\\\\\n",
       "\t -0.8558119770 & 0.247418811 & 3\\\\\n",
       "\t  0.6903509179 & 0.548021363 & 3\\\\\n",
       "\t -1.2564154388 & 0.190539701 & 3\\\\\n",
       "\t  1.0080774007 & 0.688330354 & 3\\\\\n",
       "\t  1.9351987417 & 0.327370602 & 3\\\\\n",
       "\t  0.0514002857 & 0.187184654 & 3\\\\\n",
       "\t -0.6057218905 & 0.181736062 & 4\\\\\n",
       "\t  0.6057210243 & 0.303023102 & 4\\\\\n",
       "\t -1.3059831417 & 0.966943954 & 4\\\\\n",
       "\t  0.6718389882 & 0.892961039 & 4\\\\\n",
       "\t -0.8671996532 & 0.420793012 & 4\\\\\n",
       "\t -0.7388763459 & 0.283431214 & 4\\\\\n",
       "\t -1.4297405137 & 0.645423013 & 4\\\\\n",
       "\t  0.8598654680 & 0.864933220 & 4\\\\\n",
       "\t -2.7015730800 & 0.770279579 & 4\\\\\n",
       "\t -0.5749366554 & 0.656404019 & 4\\\\\n",
       "\t  0.6938646628 & 0.665066796 & 5\\\\\n",
       "\t  0.5744177639 & 0.342255171 & 5\\\\\n",
       "\t  0.1044352482 & 0.135436156 & 5\\\\\n",
       "\t  1.3163036553 & 0.940387422 & 5\\\\\n",
       "\t -0.7147054143 & 0.144645143 & 5\\\\\n",
       "\t -0.4611804298 & 0.009824262 & 5\\\\\n",
       "\t -0.0065585423 & 0.594935855 & 5\\\\\n",
       "\t -0.0926315533 & 0.131758898 & 5\\\\\n",
       "\t  1.1655315209 & 0.833314240 & 5\\\\\n",
       "\t -0.6342274898 & 0.385101896 & 5\\\\\n",
       "\\end{tabular}\n"
      ],
      "text/markdown": [
       "\n",
       "A data.frame: 50 × 3\n",
       "\n",
       "| x &lt;dbl&gt; | y &lt;dbl&gt; | i &lt;int&gt; |\n",
       "|---|---|---|\n",
       "|  1.4039744447 | 0.773831669 | 1 |\n",
       "|  0.2116306982 | 0.651177878 | 1 |\n",
       "|  0.0006411098 | 0.484072793 | 1 |\n",
       "| -0.3179697050 | 0.112438754 | 1 |\n",
       "|  0.9743692345 | 0.222255147 | 1 |\n",
       "| -1.4465862471 | 0.815598184 | 1 |\n",
       "|  0.3079456057 | 0.324950981 | 1 |\n",
       "| -0.0531621253 | 0.262050972 | 1 |\n",
       "| -0.9534946081 | 0.442722119 | 1 |\n",
       "|  0.0609172027 | 0.124231318 | 1 |\n",
       "|  0.4972655134 | 0.061977743 | 2 |\n",
       "| -0.1441714455 | 0.605698110 | 2 |\n",
       "|  0.1884018473 | 0.463619214 | 2 |\n",
       "|  0.3153156727 | 0.825421811 | 2 |\n",
       "| -0.1154756939 | 0.653622435 | 2 |\n",
       "| -1.7879130034 | 0.290055920 | 2 |\n",
       "| -1.2945344197 | 0.073020001 | 2 |\n",
       "| -0.5322971178 | 0.995975613 | 2 |\n",
       "|  0.6246811300 | 0.852632993 | 2 |\n",
       "| -0.5193587108 | 0.820149092 | 2 |\n",
       "|  0.8813219309 | 0.524122838 | 3 |\n",
       "| -0.3868209252 | 0.440477346 | 3 |\n",
       "| -3.6543208168 | 0.380421583 | 3 |\n",
       "|  1.2437633038 | 0.797392889 | 3 |\n",
       "| -0.8558119770 | 0.247418811 | 3 |\n",
       "|  0.6903509179 | 0.548021363 | 3 |\n",
       "| -1.2564154388 | 0.190539701 | 3 |\n",
       "|  1.0080774007 | 0.688330354 | 3 |\n",
       "|  1.9351987417 | 0.327370602 | 3 |\n",
       "|  0.0514002857 | 0.187184654 | 3 |\n",
       "| -0.6057218905 | 0.181736062 | 4 |\n",
       "|  0.6057210243 | 0.303023102 | 4 |\n",
       "| -1.3059831417 | 0.966943954 | 4 |\n",
       "|  0.6718389882 | 0.892961039 | 4 |\n",
       "| -0.8671996532 | 0.420793012 | 4 |\n",
       "| -0.7388763459 | 0.283431214 | 4 |\n",
       "| -1.4297405137 | 0.645423013 | 4 |\n",
       "|  0.8598654680 | 0.864933220 | 4 |\n",
       "| -2.7015730800 | 0.770279579 | 4 |\n",
       "| -0.5749366554 | 0.656404019 | 4 |\n",
       "|  0.6938646628 | 0.665066796 | 5 |\n",
       "|  0.5744177639 | 0.342255171 | 5 |\n",
       "|  0.1044352482 | 0.135436156 | 5 |\n",
       "|  1.3163036553 | 0.940387422 | 5 |\n",
       "| -0.7147054143 | 0.144645143 | 5 |\n",
       "| -0.4611804298 | 0.009824262 | 5 |\n",
       "| -0.0065585423 | 0.594935855 | 5 |\n",
       "| -0.0926315533 | 0.131758898 | 5 |\n",
       "|  1.1655315209 | 0.833314240 | 5 |\n",
       "| -0.6342274898 | 0.385101896 | 5 |\n",
       "\n"
      ],
      "text/plain": [
       "   x             y           i\n",
       "1   1.4039744447 0.773831669 1\n",
       "2   0.2116306982 0.651177878 1\n",
       "3   0.0006411098 0.484072793 1\n",
       "4  -0.3179697050 0.112438754 1\n",
       "5   0.9743692345 0.222255147 1\n",
       "6  -1.4465862471 0.815598184 1\n",
       "7   0.3079456057 0.324950981 1\n",
       "8  -0.0531621253 0.262050972 1\n",
       "9  -0.9534946081 0.442722119 1\n",
       "10  0.0609172027 0.124231318 1\n",
       "11  0.4972655134 0.061977743 2\n",
       "12 -0.1441714455 0.605698110 2\n",
       "13  0.1884018473 0.463619214 2\n",
       "14  0.3153156727 0.825421811 2\n",
       "15 -0.1154756939 0.653622435 2\n",
       "16 -1.7879130034 0.290055920 2\n",
       "17 -1.2945344197 0.073020001 2\n",
       "18 -0.5322971178 0.995975613 2\n",
       "19  0.6246811300 0.852632993 2\n",
       "20 -0.5193587108 0.820149092 2\n",
       "21  0.8813219309 0.524122838 3\n",
       "22 -0.3868209252 0.440477346 3\n",
       "23 -3.6543208168 0.380421583 3\n",
       "24  1.2437633038 0.797392889 3\n",
       "25 -0.8558119770 0.247418811 3\n",
       "26  0.6903509179 0.548021363 3\n",
       "27 -1.2564154388 0.190539701 3\n",
       "28  1.0080774007 0.688330354 3\n",
       "29  1.9351987417 0.327370602 3\n",
       "30  0.0514002857 0.187184654 3\n",
       "31 -0.6057218905 0.181736062 4\n",
       "32  0.6057210243 0.303023102 4\n",
       "33 -1.3059831417 0.966943954 4\n",
       "34  0.6718389882 0.892961039 4\n",
       "35 -0.8671996532 0.420793012 4\n",
       "36 -0.7388763459 0.283431214 4\n",
       "37 -1.4297405137 0.645423013 4\n",
       "38  0.8598654680 0.864933220 4\n",
       "39 -2.7015730800 0.770279579 4\n",
       "40 -0.5749366554 0.656404019 4\n",
       "41  0.6938646628 0.665066796 5\n",
       "42  0.5744177639 0.342255171 5\n",
       "43  0.1044352482 0.135436156 5\n",
       "44  1.3163036553 0.940387422 5\n",
       "45 -0.7147054143 0.144645143 5\n",
       "46 -0.4611804298 0.009824262 5\n",
       "47 -0.0065585423 0.594935855 5\n",
       "48 -0.0926315533 0.131758898 5\n",
       "49  1.1655315209 0.833314240 5\n",
       "50 -0.6342274898 0.385101896 5"
      ]
     },
     "metadata": {},
     "output_type": "display_data"
    }
   ],
   "source": [
    "big_data"
   ]
  },
  {
   "cell_type": "code",
   "execution_count": 205,
   "metadata": {},
   "outputs": [
    {
     "data": {
      "text/html": [
       "<table>\n",
       "<caption>A data.frame: 10 × 2</caption>\n",
       "<thead>\n",
       "\t<tr><th scope=col>x</th><th scope=col>y</th></tr>\n",
       "\t<tr><th scope=col>&lt;dbl&gt;</th><th scope=col>&lt;dbl&gt;</th></tr>\n",
       "</thead>\n",
       "<tbody>\n",
       "\t<tr><td>-0.15795440</td><td>0.16279939</td></tr>\n",
       "\t<tr><td> 0.96361773</td><td>0.49206374</td></tr>\n",
       "\t<tr><td> 0.84280031</td><td>0.25127252</td></tr>\n",
       "\t<tr><td> 2.15633121</td><td>0.62473174</td></tr>\n",
       "\t<tr><td>-1.32574326</td><td>0.40564658</td></tr>\n",
       "\t<tr><td>-0.04539705</td><td>0.02315562</td></tr>\n",
       "\t<tr><td> 0.91547746</td><td>0.76597168</td></tr>\n",
       "\t<tr><td> 1.13424788</td><td>0.83160419</td></tr>\n",
       "\t<tr><td>-0.83883368</td><td>0.93072979</td></tr>\n",
       "\t<tr><td>-0.61376601</td><td>0.69899754</td></tr>\n",
       "</tbody>\n",
       "</table>\n"
      ],
      "text/latex": [
       "A data.frame: 10 × 2\n",
       "\\begin{tabular}{ll}\n",
       " x & y\\\\\n",
       " <dbl> & <dbl>\\\\\n",
       "\\hline\n",
       "\t -0.15795440 & 0.16279939\\\\\n",
       "\t  0.96361773 & 0.49206374\\\\\n",
       "\t  0.84280031 & 0.25127252\\\\\n",
       "\t  2.15633121 & 0.62473174\\\\\n",
       "\t -1.32574326 & 0.40564658\\\\\n",
       "\t -0.04539705 & 0.02315562\\\\\n",
       "\t  0.91547746 & 0.76597168\\\\\n",
       "\t  1.13424788 & 0.83160419\\\\\n",
       "\t -0.83883368 & 0.93072979\\\\\n",
       "\t -0.61376601 & 0.69899754\\\\\n",
       "\\end{tabular}\n"
      ],
      "text/markdown": [
       "\n",
       "A data.frame: 10 × 2\n",
       "\n",
       "| x &lt;dbl&gt; | y &lt;dbl&gt; |\n",
       "|---|---|\n",
       "| -0.15795440 | 0.16279939 |\n",
       "|  0.96361773 | 0.49206374 |\n",
       "|  0.84280031 | 0.25127252 |\n",
       "|  2.15633121 | 0.62473174 |\n",
       "| -1.32574326 | 0.40564658 |\n",
       "| -0.04539705 | 0.02315562 |\n",
       "|  0.91547746 | 0.76597168 |\n",
       "|  1.13424788 | 0.83160419 |\n",
       "| -0.83883368 | 0.93072979 |\n",
       "| -0.61376601 | 0.69899754 |\n",
       "\n"
      ],
      "text/plain": [
       "   x           y         \n",
       "1  -0.15795440 0.16279939\n",
       "2   0.96361773 0.49206374\n",
       "3   0.84280031 0.25127252\n",
       "4   2.15633121 0.62473174\n",
       "5  -1.32574326 0.40564658\n",
       "6  -0.04539705 0.02315562\n",
       "7   0.91547746 0.76597168\n",
       "8   1.13424788 0.83160419\n",
       "9  -0.83883368 0.93072979\n",
       "10 -0.61376601 0.69899754"
      ]
     },
     "metadata": {},
     "output_type": "display_data"
    }
   ],
   "source": [
    "data.frame(x = rnorm(10), y = runif(10))"
   ]
  },
  {
   "cell_type": "code",
   "execution_count": 207,
   "metadata": {},
   "outputs": [
    {
     "ename": "ERROR",
     "evalue": "Error in eval(expr, envir, enclos): object 'datalist' not found\n",
     "output_type": "error",
     "traceback": [
      "Error in eval(expr, envir, enclos): object 'datalist' not found\nTraceback:\n"
     ]
    }
   ],
   "source": [
    "datalist"
   ]
  },
  {
   "cell_type": "code",
   "execution_count": null,
   "metadata": {},
   "outputs": [],
   "source": []
  },
  {
   "cell_type": "code",
   "execution_count": null,
   "metadata": {},
   "outputs": [],
   "source": []
  },
  {
   "cell_type": "code",
   "execution_count": null,
   "metadata": {},
   "outputs": [],
   "source": []
  },
  {
   "cell_type": "code",
   "execution_count": 193,
   "metadata": {},
   "outputs": [
    {
     "data": {
      "text/html": [
       "5"
      ],
      "text/latex": [
       "5"
      ],
      "text/markdown": [
       "5"
      ],
      "text/plain": [
       "[1] 5"
      ]
     },
     "metadata": {},
     "output_type": "display_data"
    }
   ],
   "source": [
    "vvvv"
   ]
  },
  {
   "cell_type": "code",
   "execution_count": null,
   "metadata": {},
   "outputs": [],
   "source": []
  },
  {
   "cell_type": "code",
   "execution_count": 198,
   "metadata": {},
   "outputs": [],
   "source": [
    "assign(eval(paste(\"patient_\", 1, \"_cluster_\", 19, \"[\", 1, \",\", \"]\", sep=\"\")),concat_value)"
   ]
  },
  {
   "cell_type": "code",
   "execution_count": 201,
   "metadata": {},
   "outputs": [
    {
     "data": {
      "text/html": [
       "<table>\n",
       "<caption>A data.frame: 1 × 24</caption>\n",
       "<thead>\n",
       "\t<tr><th></th><th scope=col>X1</th><th scope=col>X2</th><th scope=col>X3</th><th scope=col>X4</th><th scope=col>X5</th><th scope=col>X6</th><th scope=col>X7</th><th scope=col>X8</th><th scope=col>X9</th><th scope=col>X10</th><th scope=col>...</th><th scope=col>X15</th><th scope=col>X16</th><th scope=col>X17</th><th scope=col>X18</th><th scope=col>X19</th><th scope=col>X20</th><th scope=col>X21</th><th scope=col>X22</th><th scope=col>X23</th><th scope=col>X24</th></tr>\n",
       "\t<tr><th></th><th scope=col>&lt;lgl&gt;</th><th scope=col>&lt;lgl&gt;</th><th scope=col>&lt;lgl&gt;</th><th scope=col>&lt;lgl&gt;</th><th scope=col>&lt;lgl&gt;</th><th scope=col>&lt;lgl&gt;</th><th scope=col>&lt;lgl&gt;</th><th scope=col>&lt;lgl&gt;</th><th scope=col>&lt;lgl&gt;</th><th scope=col>&lt;lgl&gt;</th><th scope=col>...</th><th scope=col>&lt;lgl&gt;</th><th scope=col>&lt;lgl&gt;</th><th scope=col>&lt;lgl&gt;</th><th scope=col>&lt;lgl&gt;</th><th scope=col>&lt;lgl&gt;</th><th scope=col>&lt;lgl&gt;</th><th scope=col>&lt;lgl&gt;</th><th scope=col>&lt;lgl&gt;</th><th scope=col>&lt;lgl&gt;</th><th scope=col>&lt;lgl&gt;</th></tr>\n",
       "</thead>\n",
       "<tbody>\n",
       "\t<tr><th scope=row>NA</th><td>NA</td><td>NA</td><td>NA</td><td>NA</td><td>NA</td><td>NA</td><td>NA</td><td>NA</td><td>NA</td><td>NA</td><td>...</td><td>NA</td><td>NA</td><td>NA</td><td>NA</td><td>NA</td><td>NA</td><td>NA</td><td>NA</td><td>NA</td><td>NA</td></tr>\n",
       "</tbody>\n",
       "</table>\n"
      ],
      "text/latex": [
       "A data.frame: 1 × 24\n",
       "\\begin{tabular}{r|lllllllllllllllllllll}\n",
       "  & X1 & X2 & X3 & X4 & X5 & X6 & X7 & X8 & X9 & X10 & ... & X15 & X16 & X17 & X18 & X19 & X20 & X21 & X22 & X23 & X24\\\\\n",
       "  & <lgl> & <lgl> & <lgl> & <lgl> & <lgl> & <lgl> & <lgl> & <lgl> & <lgl> & <lgl> & ... & <lgl> & <lgl> & <lgl> & <lgl> & <lgl> & <lgl> & <lgl> & <lgl> & <lgl> & <lgl>\\\\\n",
       "\\hline\n",
       "\tNA & NA & NA & NA & NA & NA & NA & NA & NA & NA & NA & ... & NA & NA & NA & NA & NA & NA & NA & NA & NA & NA\\\\\n",
       "\\end{tabular}\n"
      ],
      "text/markdown": [
       "\n",
       "A data.frame: 1 × 24\n",
       "\n",
       "| <!--/--> | X1 &lt;lgl&gt; | X2 &lt;lgl&gt; | X3 &lt;lgl&gt; | X4 &lt;lgl&gt; | X5 &lt;lgl&gt; | X6 &lt;lgl&gt; | X7 &lt;lgl&gt; | X8 &lt;lgl&gt; | X9 &lt;lgl&gt; | X10 &lt;lgl&gt; | ... ... | X15 &lt;lgl&gt; | X16 &lt;lgl&gt; | X17 &lt;lgl&gt; | X18 &lt;lgl&gt; | X19 &lt;lgl&gt; | X20 &lt;lgl&gt; | X21 &lt;lgl&gt; | X22 &lt;lgl&gt; | X23 &lt;lgl&gt; | X24 &lt;lgl&gt; |\n",
       "|---|---|---|---|---|---|---|---|---|---|---|---|---|---|---|---|---|---|---|---|---|---|\n",
       "| NA | NA | NA | NA | NA | NA | NA | NA | NA | NA | NA | ... | NA | NA | NA | NA | NA | NA | NA | NA | NA | NA |\n",
       "\n"
      ],
      "text/plain": [
       "   X1 X2 X3 X4 X5 X6 X7 X8 X9 X10 ... X15 X16 X17 X18 X19 X20 X21 X22 X23 X24\n",
       "NA NA NA NA NA NA NA NA NA NA NA  ... NA  NA  NA  NA  NA  NA  NA  NA  NA  NA "
      ]
     },
     "metadata": {},
     "output_type": "display_data"
    }
   ],
   "source": [
    "patient_1_cluster_19[1, ]"
   ]
  },
  {
   "cell_type": "code",
   "execution_count": 199,
   "metadata": {},
   "outputs": [
    {
     "data": {
      "text/html": [
       "<table>\n",
       "<caption>A data.frame: 1 × 24</caption>\n",
       "<thead>\n",
       "\t<tr><th></th><th scope=col>V1</th><th scope=col>V2</th><th scope=col>V3</th><th scope=col>V4</th><th scope=col>V5</th><th scope=col>V6</th><th scope=col>V7</th><th scope=col>V8</th><th scope=col>V9</th><th scope=col>V10</th><th scope=col>...</th><th scope=col>V15</th><th scope=col>V16</th><th scope=col>V17</th><th scope=col>V18</th><th scope=col>V19</th><th scope=col>V20</th><th scope=col>V21</th><th scope=col>V22</th><th scope=col>V23</th><th scope=col>V24</th></tr>\n",
       "\t<tr><th></th><th scope=col>&lt;dbl&gt;</th><th scope=col>&lt;dbl&gt;</th><th scope=col>&lt;dbl&gt;</th><th scope=col>&lt;dbl&gt;</th><th scope=col>&lt;dbl&gt;</th><th scope=col>&lt;dbl&gt;</th><th scope=col>&lt;dbl&gt;</th><th scope=col>&lt;dbl&gt;</th><th scope=col>&lt;dbl&gt;</th><th scope=col>&lt;dbl&gt;</th><th scope=col>...</th><th scope=col>&lt;dbl&gt;</th><th scope=col>&lt;dbl&gt;</th><th scope=col>&lt;dbl&gt;</th><th scope=col>&lt;dbl&gt;</th><th scope=col>&lt;dbl&gt;</th><th scope=col>&lt;dbl&gt;</th><th scope=col>&lt;dbl&gt;</th><th scope=col>&lt;dbl&gt;</th><th scope=col>&lt;dbl&gt;</th><th scope=col>&lt;dbl&gt;</th></tr>\n",
       "</thead>\n",
       "<tbody>\n",
       "\t<tr><th scope=row>100</th><td>3.038919</td><td>5.087586</td><td>1.362019</td><td>1.738134</td><td>3.093064</td><td>0.902702</td><td>0.1253669</td><td>1.346374</td><td>0.3132271</td><td>4.223508</td><td>...</td><td>3.642222</td><td>5.201613</td><td>2.978417</td><td>3.644911</td><td>5.455187</td><td>4.946547</td><td>5.019992</td><td>5.900193</td><td>3.494748</td><td>3.167236</td></tr>\n",
       "</tbody>\n",
       "</table>\n"
      ],
      "text/latex": [
       "A data.frame: 1 × 24\n",
       "\\begin{tabular}{r|lllllllllllllllllllll}\n",
       "  & V1 & V2 & V3 & V4 & V5 & V6 & V7 & V8 & V9 & V10 & ... & V15 & V16 & V17 & V18 & V19 & V20 & V21 & V22 & V23 & V24\\\\\n",
       "  & <dbl> & <dbl> & <dbl> & <dbl> & <dbl> & <dbl> & <dbl> & <dbl> & <dbl> & <dbl> & ... & <dbl> & <dbl> & <dbl> & <dbl> & <dbl> & <dbl> & <dbl> & <dbl> & <dbl> & <dbl>\\\\\n",
       "\\hline\n",
       "\t100 & 3.038919 & 5.087586 & 1.362019 & 1.738134 & 3.093064 & 0.902702 & 0.1253669 & 1.346374 & 0.3132271 & 4.223508 & ... & 3.642222 & 5.201613 & 2.978417 & 3.644911 & 5.455187 & 4.946547 & 5.019992 & 5.900193 & 3.494748 & 3.167236\\\\\n",
       "\\end{tabular}\n"
      ],
      "text/markdown": [
       "\n",
       "A data.frame: 1 × 24\n",
       "\n",
       "| <!--/--> | V1 &lt;dbl&gt; | V2 &lt;dbl&gt; | V3 &lt;dbl&gt; | V4 &lt;dbl&gt; | V5 &lt;dbl&gt; | V6 &lt;dbl&gt; | V7 &lt;dbl&gt; | V8 &lt;dbl&gt; | V9 &lt;dbl&gt; | V10 &lt;dbl&gt; | ... ... | V15 &lt;dbl&gt; | V16 &lt;dbl&gt; | V17 &lt;dbl&gt; | V18 &lt;dbl&gt; | V19 &lt;dbl&gt; | V20 &lt;dbl&gt; | V21 &lt;dbl&gt; | V22 &lt;dbl&gt; | V23 &lt;dbl&gt; | V24 &lt;dbl&gt; |\n",
       "|---|---|---|---|---|---|---|---|---|---|---|---|---|---|---|---|---|---|---|---|---|---|\n",
       "| 100 | 3.038919 | 5.087586 | 1.362019 | 1.738134 | 3.093064 | 0.902702 | 0.1253669 | 1.346374 | 0.3132271 | 4.223508 | ... | 3.642222 | 5.201613 | 2.978417 | 3.644911 | 5.455187 | 4.946547 | 5.019992 | 5.900193 | 3.494748 | 3.167236 |\n",
       "\n"
      ],
      "text/plain": [
       "    V1       V2       V3       V4       V5       V6       V7        V8      \n",
       "100 3.038919 5.087586 1.362019 1.738134 3.093064 0.902702 0.1253669 1.346374\n",
       "    V9        V10      ... V15      V16      V17      V18      V19     \n",
       "100 0.3132271 4.223508 ... 3.642222 5.201613 2.978417 3.644911 5.455187\n",
       "    V20      V21      V22      V23      V24     \n",
       "100 4.946547 5.019992 5.900193 3.494748 3.167236"
      ]
     },
     "metadata": {},
     "output_type": "display_data"
    }
   ],
   "source": [
    "get('patient_1_cluster_19[1,]')"
   ]
  },
  {
   "cell_type": "code",
   "execution_count": 196,
   "metadata": {},
   "outputs": [
    {
     "data": {
      "text/html": [
       "'patient_1_cluster_19[1,]'"
      ],
      "text/latex": [
       "'patient\\_1\\_cluster\\_19{[}1,{]}'"
      ],
      "text/markdown": [
       "'patient_1_cluster_19[1,]'"
      ],
      "text/plain": [
       "[1] \"patient_1_cluster_19[1,]\""
      ]
     },
     "metadata": {},
     "output_type": "display_data"
    }
   ],
   "source": [
    "#patient_1_clust\n",
    "paste(\"patient_\", 1, \"_cluster_\", 19, \"[\", 1, \",\", \"]\", sep=\"\")"
   ]
  },
  {
   "cell_type": "code",
   "execution_count": 147,
   "metadata": {},
   "outputs": [],
   "source": [
    "patient_1_cluster_19<-patient_1_cluster_19[complete.cases(patient_1_cluster_19),]"
   ]
  },
  {
   "cell_type": "code",
   "execution_count": 148,
   "metadata": {},
   "outputs": [
    {
     "name": "stderr",
     "output_type": "stream",
     "text": [
      "Warning message in cbind(parts$left, ellip_h, parts$right, deparse.level = 0L):\n",
      "\"number of rows of result is not a multiple of vector length (arg 2)\"\n",
      "Warning message in cbind(parts$left, ellip_h, parts$right, deparse.level = 0L):\n",
      "\"number of rows of result is not a multiple of vector length (arg 2)\"\n",
      "Warning message in cbind(parts$left, ellip_h, parts$right, deparse.level = 0L):\n",
      "\"number of rows of result is not a multiple of vector length (arg 2)\"\n",
      "Warning message in cbind(parts$left, ellip_h, parts$right, deparse.level = 0L):\n",
      "\"number of rows of result is not a multiple of vector length (arg 2)\"\n"
     ]
    },
    {
     "data": {
      "text/html": [
       "<table>\n",
       "<caption>A data.frame: 0 × 24</caption>\n",
       "<thead>\n",
       "\t<tr><th scope=col>X1</th><th scope=col>X2</th><th scope=col>X3</th><th scope=col>X4</th><th scope=col>X5</th><th scope=col>X6</th><th scope=col>X7</th><th scope=col>X8</th><th scope=col>X9</th><th scope=col>X10</th><th scope=col>...</th><th scope=col>X15</th><th scope=col>X16</th><th scope=col>X17</th><th scope=col>X18</th><th scope=col>X19</th><th scope=col>X20</th><th scope=col>X21</th><th scope=col>X22</th><th scope=col>X23</th><th scope=col>X24</th></tr>\n",
       "\t<tr><th scope=col>&lt;lgl&gt;</th><th scope=col>&lt;lgl&gt;</th><th scope=col>&lt;lgl&gt;</th><th scope=col>&lt;lgl&gt;</th><th scope=col>&lt;lgl&gt;</th><th scope=col>&lt;lgl&gt;</th><th scope=col>&lt;lgl&gt;</th><th scope=col>&lt;lgl&gt;</th><th scope=col>&lt;lgl&gt;</th><th scope=col>&lt;lgl&gt;</th><th scope=col>...</th><th scope=col>&lt;lgl&gt;</th><th scope=col>&lt;lgl&gt;</th><th scope=col>&lt;lgl&gt;</th><th scope=col>&lt;lgl&gt;</th><th scope=col>&lt;lgl&gt;</th><th scope=col>&lt;lgl&gt;</th><th scope=col>&lt;lgl&gt;</th><th scope=col>&lt;lgl&gt;</th><th scope=col>&lt;lgl&gt;</th><th scope=col>&lt;lgl&gt;</th></tr>\n",
       "</thead>\n",
       "<tbody>\n",
       "</tbody>\n",
       "</table>\n"
      ],
      "text/latex": [
       "A data.frame: 0 × 24\n",
       "\\begin{tabular}{lllllllllllllllllllll}\n",
       " X1 & X2 & X3 & X4 & X5 & X6 & X7 & X8 & X9 & X10 & ... & X15 & X16 & X17 & X18 & X19 & X20 & X21 & X22 & X23 & X24\\\\\n",
       " <lgl> & <lgl> & <lgl> & <lgl> & <lgl> & <lgl> & <lgl> & <lgl> & <lgl> & <lgl> & ... & <lgl> & <lgl> & <lgl> & <lgl> & <lgl> & <lgl> & <lgl> & <lgl> & <lgl> & <lgl>\\\\\n",
       "\\hline\n",
       "\\end{tabular}\n"
      ],
      "text/markdown": [
       "\n",
       "A data.frame: 0 × 24\n",
       "\n",
       "| X1 &lt;lgl&gt; | X2 &lt;lgl&gt; | X3 &lt;lgl&gt; | X4 &lt;lgl&gt; | X5 &lt;lgl&gt; | X6 &lt;lgl&gt; | X7 &lt;lgl&gt; | X8 &lt;lgl&gt; | X9 &lt;lgl&gt; | X10 &lt;lgl&gt; | ... ... | X15 &lt;lgl&gt; | X16 &lt;lgl&gt; | X17 &lt;lgl&gt; | X18 &lt;lgl&gt; | X19 &lt;lgl&gt; | X20 &lt;lgl&gt; | X21 &lt;lgl&gt; | X22 &lt;lgl&gt; | X23 &lt;lgl&gt; | X24 &lt;lgl&gt; |\n",
       "|---|---|---|---|---|---|---|---|---|---|---|---|---|---|---|---|---|---|---|---|---|\n",
       "\n"
      ],
      "text/plain": [
       "     X1 X2 X3 X4 X5 X6 X7 X8 X9 X10 ... X15 X16 X17 X18 X19 X20 X21 X22 X23 X24"
      ]
     },
     "metadata": {},
     "output_type": "display_data"
    }
   ],
   "source": [
    "patient_1_cluster_19"
   ]
  },
  {
   "cell_type": "code",
   "execution_count": null,
   "metadata": {},
   "outputs": [],
   "source": []
  },
  {
   "cell_type": "code",
   "execution_count": null,
   "metadata": {},
   "outputs": [],
   "source": []
  },
  {
   "cell_type": "code",
   "execution_count": null,
   "metadata": {},
   "outputs": [],
   "source": []
  },
  {
   "cell_type": "code",
   "execution_count": null,
   "metadata": {},
   "outputs": [],
   "source": [
    " #  if (concat_num %in% seq())\n",
    "         {concat_value<- concatBBT[i,]\n",
    "          assign(paste(\"patient_\", patient_num, \"_cluster_\", cluster_num), (append(paste(\"patient_\", patient_num, \"_cluster_\", cluster_num), concat_value)))\n",
    "      next    \n",
    "         \n",
    "     \n",
    "    \n",
    "\n",
    "\n",
    "\n",
    "kjn\n",
    "concat_num=0\n",
    "for (j in c(1:50))\n",
    "    {concat_num<- concat_num+1\n",
    "     if (concat_num %in% seq())\n",
    "         {concat_value<- concatBBT[i,]\n",
    "          assign(paste(\"patient_\", patient_num, \"_cluster_\", cluster_num), (append(paste(\"patient_\", patient_num, \"_cluster_\", cluster_num), concat_value)))\n",
    "      next    \n",
    "         \n",
    "     }\n",
    "    \n",
    "    }\n",
    "\n",
    "\n",
    "\n",
    "\n",
    "\n",
    "\n",
    "\n"
   ]
  },
  {
   "cell_type": "code",
   "execution_count": 56,
   "metadata": {},
   "outputs": [
    {
     "data": {
      "text/html": [
       "79"
      ],
      "text/latex": [
       "79"
      ],
      "text/markdown": [
       "79"
      ],
      "text/plain": [
       "[1] 79"
      ]
     },
     "metadata": {},
     "output_type": "display_data"
    }
   ],
   "source": [
    "fSOM[[1]]$map$mapping[ ,1][1]"
   ]
  },
  {
   "cell_type": "code",
   "execution_count": 57,
   "metadata": {},
   "outputs": [
    {
     "data": {
      "text/html": [
       "<style>\n",
       ".list-inline {list-style: none; margin:0; padding: 0}\n",
       ".list-inline>li {display: inline-block}\n",
       ".list-inline>li:not(:last-child)::after {content: \"\\00b7\"; padding: 0 .5ex}\n",
       "</style>\n",
       "<ol class=list-inline><li>27</li><li>33</li><li>40</li><li>84</li></ol>\n"
      ],
      "text/latex": [
       "\\begin{enumerate*}\n",
       "\\item 27\n",
       "\\item 33\n",
       "\\item 40\n",
       "\\item 84\n",
       "\\end{enumerate*}\n"
      ],
      "text/markdown": [
       "1. 27\n",
       "2. 33\n",
       "3. 40\n",
       "4. 84\n",
       "\n",
       "\n"
      ],
      "text/plain": [
       "[1] 27 33 40 84"
      ]
     },
     "metadata": {},
     "output_type": "display_data"
    }
   ],
   "source": [
    "yyy10"
   ]
  },
  {
   "cell_type": "code",
   "execution_count": null,
   "metadata": {},
   "outputs": [],
   "source": [
    "function(num)\n",
    "    {\n",
    "    \n",
    "}"
   ]
  },
  {
   "cell_type": "code",
   "execution_count": 59,
   "metadata": {},
   "outputs": [
    {
     "data": {
      "text/html": [
       "FALSE"
      ],
      "text/latex": [
       "FALSE"
      ],
      "text/markdown": [
       "FALSE"
      ],
      "text/plain": [
       "[1] FALSE"
      ]
     },
     "metadata": {},
     "output_type": "display_data"
    }
   ],
   "source": [
    "5==1"
   ]
  },
  {
   "cell_type": "code",
   "execution_count": 62,
   "metadata": {},
   "outputs": [
    {
     "data": {
      "text/html": [
       "<style>\n",
       ".list-inline {list-style: none; margin:0; padding: 0}\n",
       ".list-inline>li {display: inline-block}\n",
       ".list-inline>li:not(:last-child)::after {content: \"\\00b7\"; padding: 0 .5ex}\n",
       "</style>\n",
       "<ol class=list-inline><li>10</li><li>86</li><li>92</li><li>94</li></ol>\n"
      ],
      "text/latex": [
       "\\begin{enumerate*}\n",
       "\\item 10\n",
       "\\item 86\n",
       "\\item 92\n",
       "\\item 94\n",
       "\\end{enumerate*}\n"
      ],
      "text/markdown": [
       "1. 10\n",
       "2. 86\n",
       "3. 92\n",
       "4. 94\n",
       "\n",
       "\n"
      ],
      "text/plain": [
       "[1] 10 86 92 94"
      ]
     },
     "metadata": {},
     "output_type": "display_data"
    }
   ],
   "source": [
    "which(5 == yyy)"
   ]
  },
  {
   "cell_type": "code",
   "execution_count": 64,
   "metadata": {},
   "outputs": [
    {
     "data": {
      "text/html": [
       "5"
      ],
      "text/latex": [
       "5"
      ],
      "text/markdown": [
       "5"
      ],
      "text/plain": [
       "[1] 5"
      ]
     },
     "metadata": {},
     "output_type": "display_data"
    }
   ],
   "source": [
    "yyy[94]"
   ]
  },
  {
   "cell_type": "code",
   "execution_count": 250,
   "metadata": {},
   "outputs": [],
   "source": [
    "N <- 10\n",
    "x1 <- runif(N)\n",
    "x2 <- runif(N)\n",
    "d <- as.data.frame(cbind(x1, x2))\n",
    "\n",
    "\n",
    "for (loop in c(1:length(d[, 1]))) {\n",
    "    d$mean2[loop] <- mean(c(d[loop, 1], d[loop, 2]))\n",
    "}"
   ]
  },
  {
   "cell_type": "code",
   "execution_count": 251,
   "metadata": {},
   "outputs": [
    {
     "data": {
      "text/html": [
       "<table>\n",
       "<caption>A data.frame: 10 × 3</caption>\n",
       "<thead>\n",
       "\t<tr><th scope=col>x1</th><th scope=col>x2</th><th scope=col>mean2</th></tr>\n",
       "\t<tr><th scope=col>&lt;dbl&gt;</th><th scope=col>&lt;dbl&gt;</th><th scope=col>&lt;dbl&gt;</th></tr>\n",
       "</thead>\n",
       "<tbody>\n",
       "\t<tr><td>0.7524472</td><td>0.21343730</td><td>0.4829422</td></tr>\n",
       "\t<tr><td>0.4187874</td><td>0.52410608</td><td>0.4714468</td></tr>\n",
       "\t<tr><td>0.6065741</td><td>0.28952079</td><td>0.4480475</td></tr>\n",
       "\t<tr><td>0.5117049</td><td>0.36873075</td><td>0.4402178</td></tr>\n",
       "\t<tr><td>0.3189598</td><td>0.15634059</td><td>0.2376502</td></tr>\n",
       "\t<tr><td>0.4107238</td><td>0.92657124</td><td>0.6686475</td></tr>\n",
       "\t<tr><td>0.2210864</td><td>0.57332582</td><td>0.3972061</td></tr>\n",
       "\t<tr><td>0.6638684</td><td>0.31495486</td><td>0.4894116</td></tr>\n",
       "\t<tr><td>0.1400788</td><td>0.06643412</td><td>0.1032565</td></tr>\n",
       "\t<tr><td>0.8060315</td><td>0.07417011</td><td>0.4401008</td></tr>\n",
       "</tbody>\n",
       "</table>\n"
      ],
      "text/latex": [
       "A data.frame: 10 × 3\n",
       "\\begin{tabular}{lll}\n",
       " x1 & x2 & mean2\\\\\n",
       " <dbl> & <dbl> & <dbl>\\\\\n",
       "\\hline\n",
       "\t 0.7524472 & 0.21343730 & 0.4829422\\\\\n",
       "\t 0.4187874 & 0.52410608 & 0.4714468\\\\\n",
       "\t 0.6065741 & 0.28952079 & 0.4480475\\\\\n",
       "\t 0.5117049 & 0.36873075 & 0.4402178\\\\\n",
       "\t 0.3189598 & 0.15634059 & 0.2376502\\\\\n",
       "\t 0.4107238 & 0.92657124 & 0.6686475\\\\\n",
       "\t 0.2210864 & 0.57332582 & 0.3972061\\\\\n",
       "\t 0.6638684 & 0.31495486 & 0.4894116\\\\\n",
       "\t 0.1400788 & 0.06643412 & 0.1032565\\\\\n",
       "\t 0.8060315 & 0.07417011 & 0.4401008\\\\\n",
       "\\end{tabular}\n"
      ],
      "text/markdown": [
       "\n",
       "A data.frame: 10 × 3\n",
       "\n",
       "| x1 &lt;dbl&gt; | x2 &lt;dbl&gt; | mean2 &lt;dbl&gt; |\n",
       "|---|---|---|\n",
       "| 0.7524472 | 0.21343730 | 0.4829422 |\n",
       "| 0.4187874 | 0.52410608 | 0.4714468 |\n",
       "| 0.6065741 | 0.28952079 | 0.4480475 |\n",
       "| 0.5117049 | 0.36873075 | 0.4402178 |\n",
       "| 0.3189598 | 0.15634059 | 0.2376502 |\n",
       "| 0.4107238 | 0.92657124 | 0.6686475 |\n",
       "| 0.2210864 | 0.57332582 | 0.3972061 |\n",
       "| 0.6638684 | 0.31495486 | 0.4894116 |\n",
       "| 0.1400788 | 0.06643412 | 0.1032565 |\n",
       "| 0.8060315 | 0.07417011 | 0.4401008 |\n",
       "\n"
      ],
      "text/plain": [
       "   x1        x2         mean2    \n",
       "1  0.7524472 0.21343730 0.4829422\n",
       "2  0.4187874 0.52410608 0.4714468\n",
       "3  0.6065741 0.28952079 0.4480475\n",
       "4  0.5117049 0.36873075 0.4402178\n",
       "5  0.3189598 0.15634059 0.2376502\n",
       "6  0.4107238 0.92657124 0.6686475\n",
       "7  0.2210864 0.57332582 0.3972061\n",
       "8  0.6638684 0.31495486 0.4894116\n",
       "9  0.1400788 0.06643412 0.1032565\n",
       "10 0.8060315 0.07417011 0.4401008"
      ]
     },
     "metadata": {},
     "output_type": "display_data"
    }
   ],
   "source": [
    "d"
   ]
  },
  {
   "cell_type": "code",
   "execution_count": 252,
   "metadata": {},
   "outputs": [
    {
     "data": {
      "text/html": [
       "<style>\n",
       ".list-inline {list-style: none; margin:0; padding: 0}\n",
       ".list-inline>li {display: inline-block}\n",
       ".list-inline>li:not(:last-child)::after {content: \"\\00b7\"; padding: 0 .5ex}\n",
       "</style>\n",
       "<ol class=list-inline><li>0.482942236936651</li><li>0.47144676418975</li><li>0.448047466692515</li><li>0.440217841882259</li><li>0.237650173250586</li><li>0.66864752874244</li><li>0.397206105291843</li><li>0.489411609014496</li><li>0.103256467962638</li><li>0.440100804669783</li></ol>\n"
      ],
      "text/latex": [
       "\\begin{enumerate*}\n",
       "\\item 0.482942236936651\n",
       "\\item 0.47144676418975\n",
       "\\item 0.448047466692515\n",
       "\\item 0.440217841882259\n",
       "\\item 0.237650173250586\n",
       "\\item 0.66864752874244\n",
       "\\item 0.397206105291843\n",
       "\\item 0.489411609014496\n",
       "\\item 0.103256467962638\n",
       "\\item 0.440100804669783\n",
       "\\end{enumerate*}\n"
      ],
      "text/markdown": [
       "1. 0.482942236936651\n",
       "2. 0.47144676418975\n",
       "3. 0.448047466692515\n",
       "4. 0.440217841882259\n",
       "5. 0.237650173250586\n",
       "6. 0.66864752874244\n",
       "7. 0.397206105291843\n",
       "8. 0.489411609014496\n",
       "9. 0.103256467962638\n",
       "10. 0.440100804669783\n",
       "\n",
       "\n"
      ],
      "text/plain": [
       " [1] 0.4829422 0.4714468 0.4480475 0.4402178 0.2376502 0.6686475 0.3972061\n",
       " [8] 0.4894116 0.1032565 0.4401008"
      ]
     },
     "metadata": {},
     "output_type": "display_data"
    }
   ],
   "source": [
    " apply(d, 1, mean)"
   ]
  },
  {
   "cell_type": "code",
   "execution_count": null,
   "metadata": {},
   "outputs": [],
   "source": []
  }
 ],
 "metadata": {
  "kernelspec": {
   "display_name": "R",
   "language": "R",
   "name": "ir"
  },
  "language_info": {
   "codemirror_mode": "r",
   "file_extension": ".r",
   "mimetype": "text/x-r-source",
   "name": "R",
   "pygments_lexer": "r",
   "version": "3.6.1"
  }
 },
 "nbformat": 4,
 "nbformat_minor": 2
}
